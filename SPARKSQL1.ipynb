{
 "cells": [
  {
   "cell_type": "markdown",
   "metadata": {
    "application/vnd.databricks.v1+cell": {
     "inputWidgets": {},
     "nuid": "48b4297a-230a-4d69-8862-353c90acc85e",
     "showTitle": false,
     "title": ""
    }
   },
   "source": [
    "## Take-Home Exercise"
   ]
  },
  {
   "cell_type": "code",
   "execution_count": 0,
   "metadata": {
    "application/vnd.databricks.v1+cell": {
     "inputWidgets": {},
     "nuid": "020f5463-f946-4d27-b2f9-b6a9f774bbff",
     "showTitle": false,
     "title": ""
    }
   },
   "outputs": [
    {
     "data": {
      "text/html": [
       "<style scoped>\n",
       "  .ansiout {\n",
       "    display: block;\n",
       "    unicode-bidi: embed;\n",
       "    white-space: pre-wrap;\n",
       "    word-wrap: break-word;\n",
       "    word-break: break-all;\n",
       "    font-family: \"Source Code Pro\", \"Menlo\", monospace;;\n",
       "    font-size: 13px;\n",
       "    color: #555;\n",
       "    margin-left: 4px;\n",
       "    line-height: 19px;\n",
       "  }\n",
       "</style>\n",
       "<div class=\"ansiout\"></div>"
      ]
     },
     "metadata": {
      "application/vnd.databricks.v1+output": {
       "addedWidgets": {},
       "arguments": {},
       "data": "<div class=\"ansiout\"></div>",
       "datasetInfos": [],
       "metadata": {},
       "removedWidgets": [],
       "type": "html"
      }
     },
     "output_type": "display_data"
    }
   ],
   "source": [
    "from pyspark.sql.functions import column,col"
   ]
  },
  {
   "cell_type": "code",
   "execution_count": 0,
   "metadata": {
    "application/vnd.databricks.v1+cell": {
     "inputWidgets": {},
     "nuid": "2588fe8c-41a7-411c-9634-dc555a19946f",
     "showTitle": false,
     "title": ""
    }
   },
   "outputs": [
    {
     "data": {
      "text/html": [
       "<style scoped>\n",
       "  .ansiout {\n",
       "    display: block;\n",
       "    unicode-bidi: embed;\n",
       "    white-space: pre-wrap;\n",
       "    word-wrap: break-word;\n",
       "    word-break: break-all;\n",
       "    font-family: \"Source Code Pro\", \"Menlo\", monospace;;\n",
       "    font-size: 13px;\n",
       "    color: #555;\n",
       "    margin-left: 4px;\n",
       "    line-height: 19px;\n",
       "  }\n",
       "</style>\n",
       "<div class=\"ansiout\"></div>"
      ]
     },
     "metadata": {
      "application/vnd.databricks.v1+output": {
       "addedWidgets": {},
       "arguments": {},
       "data": "<div class=\"ansiout\"></div>",
       "datasetInfos": [
        {
         "name": "df",
         "schema": {
          "fields": [
           {
            "metadata": {},
            "name": "_c0",
            "nullable": true,
            "type": "integer"
           },
           {
            "metadata": {},
            "name": "id",
            "nullable": true,
            "type": "string"
           },
           {
            "metadata": {},
            "name": "name",
            "nullable": true,
            "type": "string"
           },
           {
            "metadata": {},
            "name": "host_id",
            "nullable": true,
            "type": "string"
           },
           {
            "metadata": {},
            "name": "host_name",
            "nullable": true,
            "type": "string"
           },
           {
            "metadata": {},
            "name": "neighbourhood_group",
            "nullable": true,
            "type": "string"
           },
           {
            "metadata": {},
            "name": "neighbourhood",
            "nullable": true,
            "type": "string"
           },
           {
            "metadata": {},
            "name": "latitude",
            "nullable": true,
            "type": "string"
           },
           {
            "metadata": {},
            "name": "longitude",
            "nullable": true,
            "type": "string"
           },
           {
            "metadata": {},
            "name": "room_type",
            "nullable": true,
            "type": "string"
           },
           {
            "metadata": {},
            "name": "price",
            "nullable": true,
            "type": "string"
           },
           {
            "metadata": {},
            "name": "minimum_nights",
            "nullable": true,
            "type": "string"
           },
           {
            "metadata": {},
            "name": "number_of_reviews",
            "nullable": true,
            "type": "double"
           },
           {
            "metadata": {},
            "name": "last_review",
            "nullable": true,
            "type": "string"
           },
           {
            "metadata": {},
            "name": "reviews_per_month",
            "nullable": true,
            "type": "string"
           },
           {
            "metadata": {},
            "name": "calculated_host_listings_count",
            "nullable": true,
            "type": "string"
           },
           {
            "metadata": {},
            "name": "availability_365",
            "nullable": true,
            "type": "double"
           }
          ],
          "type": "struct"
         },
         "tableIdentifier": null,
         "typeStr": "pyspark.sql.dataframe.DataFrame"
        }
       ],
       "metadata": {},
       "removedWidgets": [],
       "type": "html"
      }
     },
     "output_type": "display_data"
    }
   ],
   "source": [
    "df = spark.read.format(\"csv\").option(\"inferSchema\",\"true\").option(\"header\",\"true\").load(\"/FileStore/tables/NYhost.csv\")"
   ]
  },
  {
   "cell_type": "markdown",
   "metadata": {
    "application/vnd.databricks.v1+cell": {
     "inputWidgets": {},
     "nuid": "856f8cd7-e1f6-44d6-bacc-11049f911a6b",
     "showTitle": false,
     "title": ""
    }
   },
   "source": [
    "### Q. Get the number of rows and columns"
   ]
  },
  {
   "cell_type": "code",
   "execution_count": 0,
   "metadata": {
    "application/vnd.databricks.v1+cell": {
     "inputWidgets": {},
     "nuid": "3de30328-853b-4140-b60b-035b94576a22",
     "showTitle": false,
     "title": ""
    },
    "collapsed": true
   },
   "outputs": [
    {
     "data": {
      "text/html": [
       "<style scoped>\n",
       "  .ansiout {\n",
       "    display: block;\n",
       "    unicode-bidi: embed;\n",
       "    white-space: pre-wrap;\n",
       "    word-wrap: break-word;\n",
       "    word-break: break-all;\n",
       "    font-family: \"Source Code Pro\", \"Menlo\", monospace;;\n",
       "    font-size: 13px;\n",
       "    color: #555;\n",
       "    margin-left: 4px;\n",
       "    line-height: 19px;\n",
       "  }\n",
       "</style>\n",
       "<div class=\"ansiout\">Out[2]: 17</div>"
      ]
     },
     "metadata": {
      "application/vnd.databricks.v1+output": {
       "addedWidgets": {},
       "arguments": {},
       "data": "<div class=\"ansiout\">Out[2]: 17</div>",
       "datasetInfos": [],
       "metadata": {},
       "removedWidgets": [],
       "type": "html"
      }
     },
     "output_type": "display_data"
    }
   ],
   "source": [
    "len(df.dtypes)"
   ]
  },
  {
   "cell_type": "code",
   "execution_count": 0,
   "metadata": {
    "application/vnd.databricks.v1+cell": {
     "inputWidgets": {},
     "nuid": "4c8d9940-754c-4f24-8b79-3b619989310d",
     "showTitle": false,
     "title": ""
    }
   },
   "outputs": [
    {
     "data": {
      "text/html": [
       "<style scoped>\n",
       "  .ansiout {\n",
       "    display: block;\n",
       "    unicode-bidi: embed;\n",
       "    white-space: pre-wrap;\n",
       "    word-wrap: break-word;\n",
       "    word-break: break-all;\n",
       "    font-family: \"Source Code Pro\", \"Menlo\", monospace;;\n",
       "    font-size: 13px;\n",
       "    color: #555;\n",
       "    margin-left: 4px;\n",
       "    line-height: 19px;\n",
       "  }\n",
       "</style>\n",
       "<div class=\"ansiout\">Out[3]: 38685</div>"
      ]
     },
     "metadata": {
      "application/vnd.databricks.v1+output": {
       "addedWidgets": {},
       "arguments": {},
       "data": "<div class=\"ansiout\">Out[3]: 38685</div>",
       "datasetInfos": [],
       "metadata": {},
       "removedWidgets": [],
       "type": "html"
      }
     },
     "output_type": "display_data"
    }
   ],
   "source": [
    "df.count()"
   ]
  },
  {
   "cell_type": "code",
   "execution_count": 0,
   "metadata": {
    "application/vnd.databricks.v1+cell": {
     "inputWidgets": {},
     "nuid": "5068f571-883e-4525-afe4-ab99cfa49bf5",
     "showTitle": false,
     "title": ""
    }
   },
   "outputs": [
    {
     "data": {
      "text/html": [
       "<style scoped>\n",
       "  .ansiout {\n",
       "    display: block;\n",
       "    unicode-bidi: embed;\n",
       "    white-space: pre-wrap;\n",
       "    word-wrap: break-word;\n",
       "    word-break: break-all;\n",
       "    font-family: \"Source Code Pro\", \"Menlo\", monospace;;\n",
       "    font-size: 13px;\n",
       "    color: #555;\n",
       "    margin-left: 4px;\n",
       "    line-height: 19px;\n",
       "  }\n",
       "</style>\n",
       "<div class=\"ansiout\"></div>"
      ]
     },
     "metadata": {
      "application/vnd.databricks.v1+output": {
       "addedWidgets": {},
       "arguments": {},
       "data": "<div class=\"ansiout\"></div>",
       "datasetInfos": [],
       "metadata": {},
       "removedWidgets": [],
       "type": "html"
      }
     },
     "output_type": "display_data"
    }
   ],
   "source": [
    "## There are 38685 rows and 17 columns."
   ]
  },
  {
   "cell_type": "markdown",
   "metadata": {
    "application/vnd.databricks.v1+cell": {
     "inputWidgets": {},
     "nuid": "f9cc4b8c-363f-4314-8f33-3b71812ed3ba",
     "showTitle": false,
     "title": ""
    }
   },
   "source": [
    "### Q. Find the top 10 host properties (hotel names) in New York City"
   ]
  },
  {
   "cell_type": "code",
   "execution_count": 0,
   "metadata": {
    "application/vnd.databricks.v1+cell": {
     "inputWidgets": {},
     "nuid": "b5f5d90a-06df-45da-a9c4-16e370b9e4bf",
     "showTitle": false,
     "title": ""
    },
    "collapsed": true
   },
   "outputs": [
    {
     "data": {
      "text/html": [
       "<style scoped>\n",
       "  .ansiout {\n",
       "    display: block;\n",
       "    unicode-bidi: embed;\n",
       "    white-space: pre-wrap;\n",
       "    word-wrap: break-word;\n",
       "    word-break: break-all;\n",
       "    font-family: \"Source Code Pro\", \"Menlo\", monospace;;\n",
       "    font-size: 13px;\n",
       "    color: #555;\n",
       "    margin-left: 4px;\n",
       "    line-height: 19px;\n",
       "  }\n",
       "</style>\n",
       "<div class=\"ansiout\">root\n",
       "-- _c0: integer (nullable = true)\n",
       "-- id: string (nullable = true)\n",
       "-- name: string (nullable = true)\n",
       "-- host_id: string (nullable = true)\n",
       "-- host_name: string (nullable = true)\n",
       "-- neighbourhood_group: string (nullable = true)\n",
       "-- neighbourhood: string (nullable = true)\n",
       "-- latitude: string (nullable = true)\n",
       "-- longitude: string (nullable = true)\n",
       "-- room_type: string (nullable = true)\n",
       "-- price: string (nullable = true)\n",
       "-- minimum_nights: string (nullable = true)\n",
       "-- number_of_reviews: double (nullable = true)\n",
       "-- last_review: string (nullable = true)\n",
       "-- reviews_per_month: string (nullable = true)\n",
       "-- calculated_host_listings_count: string (nullable = true)\n",
       "-- availability_365: double (nullable = true)\n",
       "\n",
       "</div>"
      ]
     },
     "metadata": {
      "application/vnd.databricks.v1+output": {
       "addedWidgets": {},
       "arguments": {},
       "data": "<div class=\"ansiout\">root\n |-- _c0: integer (nullable = true)\n |-- id: string (nullable = true)\n |-- name: string (nullable = true)\n |-- host_id: string (nullable = true)\n |-- host_name: string (nullable = true)\n |-- neighbourhood_group: string (nullable = true)\n |-- neighbourhood: string (nullable = true)\n |-- latitude: string (nullable = true)\n |-- longitude: string (nullable = true)\n |-- room_type: string (nullable = true)\n |-- price: string (nullable = true)\n |-- minimum_nights: string (nullable = true)\n |-- number_of_reviews: double (nullable = true)\n |-- last_review: string (nullable = true)\n |-- reviews_per_month: string (nullable = true)\n |-- calculated_host_listings_count: string (nullable = true)\n |-- availability_365: double (nullable = true)\n\n</div>",
       "datasetInfos": [],
       "metadata": {},
       "removedWidgets": [],
       "type": "html"
      }
     },
     "output_type": "display_data"
    }
   ],
   "source": [
    "df.printSchema()"
   ]
  },
  {
   "cell_type": "code",
   "execution_count": 0,
   "metadata": {
    "application/vnd.databricks.v1+cell": {
     "inputWidgets": {},
     "nuid": "d33215c4-7e02-46ff-979c-bb77f1304d12",
     "showTitle": false,
     "title": ""
    }
   },
   "outputs": [
    {
     "data": {
      "text/html": [
       "<style scoped>\n",
       "  .ansiout {\n",
       "    display: block;\n",
       "    unicode-bidi: embed;\n",
       "    white-space: pre-wrap;\n",
       "    word-wrap: break-word;\n",
       "    word-break: break-all;\n",
       "    font-family: \"Source Code Pro\", \"Menlo\", monospace;;\n",
       "    font-size: 13px;\n",
       "    color: #555;\n",
       "    margin-left: 4px;\n",
       "    line-height: 19px;\n",
       "  }\n",
       "</style>\n",
       "<div class=\"ansiout\">+---+----+--------------------+-------+----------------+-------------------+------------------+--------+---------+---------------+-----+--------------+-----------------+-----------+-----------------+------------------------------+----------------+\n",
       "_c0|  id|                name|host_id|       host_name|neighbourhood_group|     neighbourhood|latitude|longitude|      room_type|price|minimum_nights|number_of_reviews|last_review|reviews_per_month|calculated_host_listings_count|availability_365|\n",
       "+---+----+--------------------+-------+----------------+-------------------+------------------+--------+---------+---------------+-----+--------------+-----------------+-----------+-----------------+------------------------------+----------------+\n",
       "  0|2539|Clean &amp; quiet apt...|   2787|            John|           Brooklyn|        Kensington|40.64749|-73.97237|   Private room|  149|             1|              9.0| 19-10-2018|             0.21|                             6|           365.0|\n",
       "  1|2595|Skylit Midtown Ca...|   2845|        Jennifer|          Manhattan|           Midtown|40.75362|-73.98377|Entire home/apt|  225|             1|             45.0| 21-05-2019|             0.38|                             2|           355.0|\n",
       "  2|3831|Cozy Entire Floor...|   4869|     LisaRoxanne|           Brooklyn|      Clinton Hill|40.68514|-73.95976|Entire home/apt|   89|             1|            270.0| 05-07-2019|             4.64|                             1|           194.0|\n",
       "  3|5022|Entire Apt: Spaci...|   7192|           Laura|          Manhattan|       East Harlem|40.79851|-73.94399|Entire home/apt|   80|            10|              9.0| 19-11-2018|              0.1|                             1|             0.0|\n",
       "  4|5099|Large Cozy 1 BR A...|   7322|           Chris|          Manhattan|       Murray Hill|40.74767|  -73.975|Entire home/apt|  200|             3|             74.0| 22-06-2019|             0.59|                             1|           129.0|\n",
       "  5|5121|     BlissArtsSpace!|   7356|           Garon|           Brooklyn|Bedford-Stuyvesant|40.68688|-73.95596|   Private room|   60|            45|             49.0| 05-10-2017|              0.4|                             1|             0.0|\n",
       "  6|5178|Large Furnished R...|   8967|        Shunichi|          Manhattan|    Hell&#39;s Kitchen|40.76489|-73.98493|   Private room|   79|             2|            430.0| 24-06-2019|             3.47|                             1|           220.0|\n",
       "  7|5203|Cozy Clean Guest ...|   7490|       MaryEllen|          Manhattan|   Upper West Side|40.80178|-73.96723|   Private room|   79|             2|            118.0| 21-07-2017|             0.99|                             1|             0.0|\n",
       "  8|5238|Cute &amp; Cozy Lower...|   7549|             Ben|          Manhattan|         Chinatown|40.71344|-73.99037|Entire home/apt|  150|             1|            160.0| 09-06-2019|             1.33|                             4|           188.0|\n",
       "  9|5295|Beautiful 1br on ...|   7702|            Lena|          Manhattan|   Upper West Side|40.80316|-73.96545|Entire home/apt|  135|             5|             53.0| 22-06-2019|             0.43|                             1|             6.0|\n",
       " 10|5441|Central Manhattan...|   7989|            Kate|          Manhattan|    Hell&#39;s Kitchen|40.76076|-73.98867|   Private room|   85|             2|            188.0| 23-06-2019|              1.5|                             1|            39.0|\n",
       " 11|5803|Lovely Room 1, Ga...|   9744|          Laurie|           Brooklyn|       South Slope|40.66829|-73.98779|   Private room|   89|             4|            167.0| 24-06-2019|             1.34|                             3|           314.0|\n",
       " 12|6021|Wonderful Guest B...|  11528|         Claudio|          Manhattan|   Upper West Side|40.79826|-73.96113|   Private room|   85|             2|            113.0| 05-07-2019|             0.91|                             1|           333.0|\n",
       " 13|6090|West Village Nest...|  11975|           Alina|          Manhattan|      West Village| 40.7353|-74.00525|Entire home/apt|  120|            90|             27.0| 31-10-2018|             0.22|                             1|             0.0|\n",
       " 14|6848|Only 2 stops to M...|  15991|   Allen &amp; Irina|           Brooklyn|      Williamsburg|40.70837|-73.95352|Entire home/apt|  140|             2|            148.0| 29-06-2019|              1.2|                             1|            46.0|\n",
       " 15|7097|Perfect for Your ...|  17571|            Jane|           Brooklyn|       Fort Greene|40.69169|-73.97185|Entire home/apt|  215|             2|            198.0| 28-06-2019|             1.72|                             1|           321.0|\n",
       " 16|7322|     Chelsea Perfect|  18946|            Doti|          Manhattan|           Chelsea|40.74192|-73.99501|   Private room|  140|             1|            260.0| 01-07-2019|             2.12|                             1|            12.0|\n",
       " 17|7726|Hip Historic Brow...|  20950|Adam And Charity|           Brooklyn|     Crown Heights|40.67592|-73.94694|Entire home/apt|   99|             3|             53.0| 22-06-2019|             4.44|                             1|            21.0|\n",
       " 18|7801|Sweet and Spaciou...|  21207|           Chaya|           Brooklyn|      Williamsburg|40.71842|-73.95718|Entire home/apt|  299|             3|              9.0| 28-12-2011|             0.07|                             1|             0.0|\n",
       " 19|8024|CBG CtyBGd HelpsH...|  22486|           Lisel|           Brooklyn|        Park Slope|40.68069|-73.97706|   Private room|  130|             2|            130.0| 01-07-2019|             1.09|                             6|           347.0|\n",
       "+---+----+--------------------+-------+----------------+-------------------+------------------+--------+---------+---------------+-----+--------------+-----------------+-----------+-----------------+------------------------------+----------------+\n",
       "only showing top 20 rows\n",
       "\n",
       "</div>"
      ]
     },
     "metadata": {
      "application/vnd.databricks.v1+output": {
       "addedWidgets": {},
       "arguments": {},
       "data": "<div class=\"ansiout\">+---+----+--------------------+-------+----------------+-------------------+------------------+--------+---------+---------------+-----+--------------+-----------------+-----------+-----------------+------------------------------+----------------+\n|_c0|  id|                name|host_id|       host_name|neighbourhood_group|     neighbourhood|latitude|longitude|      room_type|price|minimum_nights|number_of_reviews|last_review|reviews_per_month|calculated_host_listings_count|availability_365|\n+---+----+--------------------+-------+----------------+-------------------+------------------+--------+---------+---------------+-----+--------------+-----------------+-----------+-----------------+------------------------------+----------------+\n|  0|2539|Clean &amp; quiet apt...|   2787|            John|           Brooklyn|        Kensington|40.64749|-73.97237|   Private room|  149|             1|              9.0| 19-10-2018|             0.21|                             6|           365.0|\n|  1|2595|Skylit Midtown Ca...|   2845|        Jennifer|          Manhattan|           Midtown|40.75362|-73.98377|Entire home/apt|  225|             1|             45.0| 21-05-2019|             0.38|                             2|           355.0|\n|  2|3831|Cozy Entire Floor...|   4869|     LisaRoxanne|           Brooklyn|      Clinton Hill|40.68514|-73.95976|Entire home/apt|   89|             1|            270.0| 05-07-2019|             4.64|                             1|           194.0|\n|  3|5022|Entire Apt: Spaci...|   7192|           Laura|          Manhattan|       East Harlem|40.79851|-73.94399|Entire home/apt|   80|            10|              9.0| 19-11-2018|              0.1|                             1|             0.0|\n|  4|5099|Large Cozy 1 BR A...|   7322|           Chris|          Manhattan|       Murray Hill|40.74767|  -73.975|Entire home/apt|  200|             3|             74.0| 22-06-2019|             0.59|                             1|           129.0|\n|  5|5121|     BlissArtsSpace!|   7356|           Garon|           Brooklyn|Bedford-Stuyvesant|40.68688|-73.95596|   Private room|   60|            45|             49.0| 05-10-2017|              0.4|                             1|             0.0|\n|  6|5178|Large Furnished R...|   8967|        Shunichi|          Manhattan|    Hell&#39;s Kitchen|40.76489|-73.98493|   Private room|   79|             2|            430.0| 24-06-2019|             3.47|                             1|           220.0|\n|  7|5203|Cozy Clean Guest ...|   7490|       MaryEllen|          Manhattan|   Upper West Side|40.80178|-73.96723|   Private room|   79|             2|            118.0| 21-07-2017|             0.99|                             1|             0.0|\n|  8|5238|Cute &amp; Cozy Lower...|   7549|             Ben|          Manhattan|         Chinatown|40.71344|-73.99037|Entire home/apt|  150|             1|            160.0| 09-06-2019|             1.33|                             4|           188.0|\n|  9|5295|Beautiful 1br on ...|   7702|            Lena|          Manhattan|   Upper West Side|40.80316|-73.96545|Entire home/apt|  135|             5|             53.0| 22-06-2019|             0.43|                             1|             6.0|\n| 10|5441|Central Manhattan...|   7989|            Kate|          Manhattan|    Hell&#39;s Kitchen|40.76076|-73.98867|   Private room|   85|             2|            188.0| 23-06-2019|              1.5|                             1|            39.0|\n| 11|5803|Lovely Room 1, Ga...|   9744|          Laurie|           Brooklyn|       South Slope|40.66829|-73.98779|   Private room|   89|             4|            167.0| 24-06-2019|             1.34|                             3|           314.0|\n| 12|6021|Wonderful Guest B...|  11528|         Claudio|          Manhattan|   Upper West Side|40.79826|-73.96113|   Private room|   85|             2|            113.0| 05-07-2019|             0.91|                             1|           333.0|\n| 13|6090|West Village Nest...|  11975|           Alina|          Manhattan|      West Village| 40.7353|-74.00525|Entire home/apt|  120|            90|             27.0| 31-10-2018|             0.22|                             1|             0.0|\n| 14|6848|Only 2 stops to M...|  15991|   Allen &amp; Irina|           Brooklyn|      Williamsburg|40.70837|-73.95352|Entire home/apt|  140|             2|            148.0| 29-06-2019|              1.2|                             1|            46.0|\n| 15|7097|Perfect for Your ...|  17571|            Jane|           Brooklyn|       Fort Greene|40.69169|-73.97185|Entire home/apt|  215|             2|            198.0| 28-06-2019|             1.72|                             1|           321.0|\n| 16|7322|     Chelsea Perfect|  18946|            Doti|          Manhattan|           Chelsea|40.74192|-73.99501|   Private room|  140|             1|            260.0| 01-07-2019|             2.12|                             1|            12.0|\n| 17|7726|Hip Historic Brow...|  20950|Adam And Charity|           Brooklyn|     Crown Heights|40.67592|-73.94694|Entire home/apt|   99|             3|             53.0| 22-06-2019|             4.44|                             1|            21.0|\n| 18|7801|Sweet and Spaciou...|  21207|           Chaya|           Brooklyn|      Williamsburg|40.71842|-73.95718|Entire home/apt|  299|             3|              9.0| 28-12-2011|             0.07|                             1|             0.0|\n| 19|8024|CBG CtyBGd HelpsH...|  22486|           Lisel|           Brooklyn|        Park Slope|40.68069|-73.97706|   Private room|  130|             2|            130.0| 01-07-2019|             1.09|                             6|           347.0|\n+---+----+--------------------+-------+----------------+-------------------+------------------+--------+---------+---------------+-----+--------------+-----------------+-----------+-----------------+------------------------------+----------------+\nonly showing top 20 rows\n\n</div>",
       "datasetInfos": [],
       "metadata": {},
       "removedWidgets": [],
       "type": "html"
      }
     },
     "output_type": "display_data"
    }
   ],
   "source": [
    "df.show(20)"
   ]
  },
  {
   "cell_type": "code",
   "execution_count": 0,
   "metadata": {
    "application/vnd.databricks.v1+cell": {
     "inputWidgets": {},
     "nuid": "742d1f23-c9c7-4ee5-9d93-148c3f28b88f",
     "showTitle": false,
     "title": ""
    }
   },
   "outputs": [
    {
     "data": {
      "text/html": [
       "<style scoped>\n",
       "  .ansiout {\n",
       "    display: block;\n",
       "    unicode-bidi: embed;\n",
       "    white-space: pre-wrap;\n",
       "    word-wrap: break-word;\n",
       "    word-break: break-all;\n",
       "    font-family: \"Source Code Pro\", \"Menlo\", monospace;;\n",
       "    font-size: 13px;\n",
       "    color: #555;\n",
       "    margin-left: 4px;\n",
       "    line-height: 19px;\n",
       "  }\n",
       "</style>\n",
       "<div class=\"ansiout\">+--------------------+-----------------+\n",
       "                name|reviews_per_month|\n",
       "+--------------------+-----------------+\n",
       "&#34;&#34;&#34;&#34;&#34;&#34;&#34;Chill&#34;&#34;&#34;&#34; ...|     Private room|\n",
       "COZY Room for Fem...|             9.97|\n",
       "    Park Slope Villa|             9.93|\n",
       "A Little Sumptin&#39;...|             9.85|\n",
       "Accessible Two Be...|             9.85|\n",
       "   Peaches Paradise.|             9.83|\n",
       "Private room near...|             9.82|\n",
       "Best Value ??Memo...|             9.78|\n",
       "Master Bedroom wi...|             9.74|\n",
       "Cozy and private ...|             9.73|\n",
       "+--------------------+-----------------+\n",
       "only showing top 10 rows\n",
       "\n",
       "</div>"
      ]
     },
     "metadata": {
      "application/vnd.databricks.v1+output": {
       "addedWidgets": {},
       "arguments": {},
       "data": "<div class=\"ansiout\">+--------------------+-----------------+\n|                name|reviews_per_month|\n+--------------------+-----------------+\n|&#34;&#34;&#34;&#34;&#34;&#34;&#34;Chill&#34;&#34;&#34;&#34; ...|     Private room|\n|COZY Room for Fem...|             9.97|\n|    Park Slope Villa|             9.93|\n|A Little Sumptin&#39;...|             9.85|\n|Accessible Two Be...|             9.85|\n|   Peaches Paradise.|             9.83|\n|Private room near...|             9.82|\n|Best Value ??Memo...|             9.78|\n|Master Bedroom wi...|             9.74|\n|Cozy and private ...|             9.73|\n+--------------------+-----------------+\nonly showing top 10 rows\n\n</div>",
       "datasetInfos": [],
       "metadata": {},
       "removedWidgets": [],
       "type": "html"
      }
     },
     "output_type": "display_data"
    }
   ],
   "source": [
    "df.select(\"name\",\"reviews_per_month\").orderBy(\"reviews_per_month\",ascending=False).show(10)"
   ]
  },
  {
   "cell_type": "markdown",
   "metadata": {
    "application/vnd.databricks.v1+cell": {
     "inputWidgets": {},
     "nuid": "cb331989-67c6-4f5d-91db-7a43e285e392",
     "showTitle": false,
     "title": ""
    }
   },
   "source": [
    "### Q. What can you tell about the hosts and their properties (hotels)"
   ]
  },
  {
   "cell_type": "code",
   "execution_count": 0,
   "metadata": {
    "application/vnd.databricks.v1+cell": {
     "inputWidgets": {},
     "nuid": "a17e2ad7-2327-4fb6-80e7-510440384a7e",
     "showTitle": false,
     "title": ""
    },
    "collapsed": true
   },
   "outputs": [
    {
     "data": {
      "text/html": [
       "<style scoped>\n",
       "  .table-result-container {\n",
       "    max-height: 300px;\n",
       "    overflow: auto;\n",
       "  }\n",
       "  table, th, td {\n",
       "    border: 1px solid black;\n",
       "    border-collapse: collapse;\n",
       "  }\n",
       "  th, td {\n",
       "    padding: 5px;\n",
       "  }\n",
       "  th {\n",
       "    text-align: left;\n",
       "  }\n",
       "</style><div class='table-result-container'><table class='table-result'><thead style='background-color: white'><tr><th>neighbourhood_group</th><th>count(host_id)</th></tr></thead><tbody><tr><td>Queens</td><td>4538</td></tr><tr><td>Matthew</td><td>1</td></tr><tr><td>Carmen</td><td>1</td></tr><tr><td>D</td><td>1</td></tr><tr><td>TiffanyJoy</td><td>1</td></tr><tr><td>Kristin</td><td>1</td></tr><tr><td>Brooklyn</td><td>16392</td></tr><tr><td>Jorge</td><td>1</td></tr><tr><td>Staten Island</td><td>312</td></tr><tr><td>William Hakan</td><td>1</td></tr><tr><td>Seth</td><td>1</td></tr><tr><td>127164761</td><td>1</td></tr><tr><td>1464358</td><td>1</td></tr><tr><td>Manhattan</td><td>16564</td></tr><tr><td>Bronx</td><td>864</td></tr><tr><td>Carolyn</td><td>1</td></tr><tr><td>Evelyn</td><td>1</td></tr><tr><td>Krista</td><td>1</td></tr><tr><td>194716858</td><td>1</td></tr><tr><td>Gpa</td><td>1</td></tr></tbody></table></div>"
      ]
     },
     "metadata": {
      "application/vnd.databricks.v1+output": {
       "addedWidgets": {},
       "aggData": [],
       "aggError": "",
       "aggOverflow": false,
       "aggSchema": [],
       "aggSeriesLimitReached": false,
       "aggType": "",
       "arguments": {},
       "columnCustomDisplayInfos": {},
       "data": [
        [
         "Queens",
         4538
        ],
        [
         "Matthew",
         1
        ],
        [
         "Carmen",
         1
        ],
        [
         "D",
         1
        ],
        [
         "TiffanyJoy",
         1
        ],
        [
         "Kristin",
         1
        ],
        [
         "Brooklyn",
         16392
        ],
        [
         "Jorge",
         1
        ],
        [
         "Staten Island",
         312
        ],
        [
         "William Hakan",
         1
        ],
        [
         "Seth",
         1
        ],
        [
         "127164761",
         1
        ],
        [
         "1464358",
         1
        ],
        [
         "Manhattan",
         16564
        ],
        [
         "Bronx",
         864
        ],
        [
         "Carolyn",
         1
        ],
        [
         "Evelyn",
         1
        ],
        [
         "Krista",
         1
        ],
        [
         "194716858",
         1
        ],
        [
         "Gpa",
         1
        ]
       ],
       "datasetInfos": [],
       "dbfsResultPath": null,
       "isJsonSchema": true,
       "metadata": {},
       "overflow": false,
       "plotOptions": {
        "customPlotOptions": {
         "pieChart": [
          {
           "key": "donut",
           "value": true
          }
         ]
        },
        "displayType": "pieChart",
        "pivotAggregation": "sum",
        "pivotColumns": [],
        "xColumns": [
         "neighbourhood_group"
        ],
        "yColumns": [
         "count(host_id)"
        ]
       },
       "removedWidgets": [],
       "schema": [
        {
         "metadata": "{}",
         "name": "neighbourhood_group",
         "type": "\"string\""
        },
        {
         "metadata": "{}",
         "name": "count(host_id)",
         "type": "\"long\""
        }
       ],
       "type": "table"
      }
     },
     "output_type": "display_data"
    }
   ],
   "source": [
    "display(df.groupBy(\"neighbourhood_group\").agg({\"host_id\":\"count\"}))"
   ]
  },
  {
   "cell_type": "code",
   "execution_count": 0,
   "metadata": {
    "application/vnd.databricks.v1+cell": {
     "inputWidgets": {},
     "nuid": "9346d12e-b19d-4043-b47d-29765d3b4985",
     "showTitle": false,
     "title": ""
    }
   },
   "outputs": [
    {
     "data": {
      "text/html": [
       "<style scoped>\n",
       "  .ansiout {\n",
       "    display: block;\n",
       "    unicode-bidi: embed;\n",
       "    white-space: pre-wrap;\n",
       "    word-wrap: break-word;\n",
       "    word-break: break-all;\n",
       "    font-family: \"Source Code Pro\", \"Menlo\", monospace;;\n",
       "    font-size: 13px;\n",
       "    color: #555;\n",
       "    margin-left: 4px;\n",
       "    line-height: 19px;\n",
       "  }\n",
       "</style>"
      ]
     },
     "metadata": {
      "application/vnd.databricks.v1+output": {
       "arguments": {},
       "data": "",
       "errorSummary": "",
       "errorTraceType": null,
       "metadata": {},
       "type": "ipynbError"
      }
     },
     "output_type": "display_data"
    }
   ],
   "source": [
    "## Most of the hosts have their properties (hotels) in Brooklyn and Manhattan."
   ]
  },
  {
   "cell_type": "markdown",
   "metadata": {
    "application/vnd.databricks.v1+cell": {
     "inputWidgets": {},
     "nuid": "86421a21-7866-4910-8172-d94727639211",
     "showTitle": false,
     "title": ""
    }
   },
   "source": [
    "### Q. Get the total number of hosts and number of properties (hotels) listed"
   ]
  },
  {
   "cell_type": "code",
   "execution_count": 0,
   "metadata": {
    "application/vnd.databricks.v1+cell": {
     "inputWidgets": {},
     "nuid": "93988bcb-1395-48ab-a7e8-221578f1488f",
     "showTitle": false,
     "title": ""
    },
    "collapsed": true
   },
   "outputs": [
    {
     "data": {
      "text/html": [
       "<style scoped>\n",
       "  .ansiout {\n",
       "    display: block;\n",
       "    unicode-bidi: embed;\n",
       "    white-space: pre-wrap;\n",
       "    word-wrap: break-word;\n",
       "    word-break: break-all;\n",
       "    font-family: \"Source Code Pro\", \"Menlo\", monospace;;\n",
       "    font-size: 13px;\n",
       "    color: #555;\n",
       "    margin-left: 4px;\n",
       "    line-height: 19px;\n",
       "  }\n",
       "</style>\n",
       "<div class=\"ansiout\">Out[26]: 38560</div>"
      ]
     },
     "metadata": {
      "application/vnd.databricks.v1+output": {
       "addedWidgets": {},
       "arguments": {},
       "data": "<div class=\"ansiout\">Out[26]: 38560</div>",
       "datasetInfos": [],
       "metadata": {},
       "removedWidgets": [],
       "type": "html"
      }
     },
     "output_type": "display_data"
    }
   ],
   "source": [
    "df.select(\"host_id\").distinct().count()"
   ]
  },
  {
   "cell_type": "code",
   "execution_count": 0,
   "metadata": {
    "application/vnd.databricks.v1+cell": {
     "inputWidgets": {},
     "nuid": "5f208cb6-e2c3-45c4-af1a-989c0a106c5b",
     "showTitle": false,
     "title": ""
    }
   },
   "outputs": [
    {
     "data": {
      "text/html": [
       "<style scoped>\n",
       "  .ansiout {\n",
       "    display: block;\n",
       "    unicode-bidi: embed;\n",
       "    white-space: pre-wrap;\n",
       "    word-wrap: break-word;\n",
       "    word-break: break-all;\n",
       "    font-family: \"Source Code Pro\", \"Menlo\", monospace;;\n",
       "    font-size: 13px;\n",
       "    color: #555;\n",
       "    margin-left: 4px;\n",
       "    line-height: 19px;\n",
       "  }\n",
       "</style>"
      ]
     },
     "metadata": {
      "application/vnd.databricks.v1+output": {
       "arguments": {},
       "data": "",
       "errorSummary": "",
       "errorTraceType": null,
       "metadata": {},
       "type": "ipynbError"
      }
     },
     "output_type": "display_data"
    }
   ],
   "source": [
    "## The total number of hosts are 38560"
   ]
  },
  {
   "cell_type": "code",
   "execution_count": 0,
   "metadata": {
    "application/vnd.databricks.v1+cell": {
     "inputWidgets": {},
     "nuid": "02eec518-8bba-4a71-8271-2e03a78c1ca9",
     "showTitle": false,
     "title": ""
    }
   },
   "outputs": [
    {
     "data": {
      "text/html": [
       "<style scoped>\n",
       "  .ansiout {\n",
       "    display: block;\n",
       "    unicode-bidi: embed;\n",
       "    white-space: pre-wrap;\n",
       "    word-wrap: break-word;\n",
       "    word-break: break-all;\n",
       "    font-family: \"Source Code Pro\", \"Menlo\", monospace;;\n",
       "    font-size: 13px;\n",
       "    color: #555;\n",
       "    margin-left: 4px;\n",
       "    line-height: 19px;\n",
       "  }\n",
       "</style>\n",
       "<div class=\"ansiout\">+--------+-----------+\n",
       " host_id|count(name)|\n",
       "+--------+-----------+\n",
       "  716306|          1|\n",
       " 1203500|          1|\n",
       "  368528|          1|\n",
       " 1577493|          1|\n",
       " 1390555|          1|\n",
       " 1317588|          1|\n",
       " 2472680|          1|\n",
       " 2155832|          1|\n",
       " 2426404|          1|\n",
       " 2740824|          1|\n",
       "  192750|          1|\n",
       " 2682735|          1|\n",
       " 4432173|          1|\n",
       " 5959653|          2|\n",
       " 4623093|          1|\n",
       " 4645357|          1|\n",
       " 8422502|          1|\n",
       " 4906960|          1|\n",
       " 4691967|          1|\n",
       "15198359|          1|\n",
       "+--------+-----------+\n",
       "only showing top 20 rows\n",
       "\n",
       "</div>"
      ]
     },
     "metadata": {
      "application/vnd.databricks.v1+output": {
       "addedWidgets": {},
       "arguments": {},
       "data": "<div class=\"ansiout\">+--------+-----------+\n| host_id|count(name)|\n+--------+-----------+\n|  716306|          1|\n| 1203500|          1|\n|  368528|          1|\n| 1577493|          1|\n| 1390555|          1|\n| 1317588|          1|\n| 2472680|          1|\n| 2155832|          1|\n| 2426404|          1|\n| 2740824|          1|\n|  192750|          1|\n| 2682735|          1|\n| 4432173|          1|\n| 5959653|          2|\n| 4623093|          1|\n| 4645357|          1|\n| 8422502|          1|\n| 4906960|          1|\n| 4691967|          1|\n|15198359|          1|\n+--------+-----------+\nonly showing top 20 rows\n\n</div>",
       "datasetInfos": [],
       "metadata": {},
       "removedWidgets": [],
       "type": "html"
      }
     },
     "output_type": "display_data"
    }
   ],
   "source": [
    "df.groupBy(\"host_id\").agg({\"name\":\"count\"}).show()"
   ]
  },
  {
   "cell_type": "markdown",
   "metadata": {
    "application/vnd.databricks.v1+cell": {
     "inputWidgets": {},
     "nuid": "3d7a6c4d-fa09-4175-91c8-a69e639c18f3",
     "showTitle": false,
     "title": ""
    }
   },
   "source": [
    "### Q. Which neighbourhood group has the highest number of properties (hotels) listed. Plot a bar chart to display the results"
   ]
  },
  {
   "cell_type": "code",
   "execution_count": 0,
   "metadata": {
    "application/vnd.databricks.v1+cell": {
     "inputWidgets": {},
     "nuid": "574e4a68-e28b-4e62-ade5-52c747c04261",
     "showTitle": false,
     "title": ""
    },
    "collapsed": true
   },
   "outputs": [
    {
     "data": {
      "text/html": [
       "<style scoped>\n",
       "  .table-result-container {\n",
       "    max-height: 300px;\n",
       "    overflow: auto;\n",
       "  }\n",
       "  table, th, td {\n",
       "    border: 1px solid black;\n",
       "    border-collapse: collapse;\n",
       "  }\n",
       "  th, td {\n",
       "    padding: 5px;\n",
       "  }\n",
       "  th {\n",
       "    text-align: left;\n",
       "  }\n",
       "</style><div class='table-result-container'><table class='table-result'><thead style='background-color: white'><tr><th>neighbourhood_group</th><th>count(name)</th></tr></thead><tbody><tr><td>Queens</td><td>4538</td></tr><tr><td>Matthew</td><td>1</td></tr><tr><td>Carmen</td><td>1</td></tr><tr><td>D</td><td>1</td></tr><tr><td>TiffanyJoy</td><td>1</td></tr><tr><td>Kristin</td><td>1</td></tr><tr><td>Brooklyn</td><td>16392</td></tr><tr><td>Jorge</td><td>1</td></tr><tr><td>Staten Island</td><td>312</td></tr><tr><td>William Hakan</td><td>1</td></tr><tr><td>Seth</td><td>1</td></tr><tr><td>127164761</td><td>1</td></tr><tr><td>1464358</td><td>1</td></tr><tr><td>Manhattan</td><td>16564</td></tr><tr><td>Bronx</td><td>864</td></tr><tr><td>Carolyn</td><td>1</td></tr><tr><td>Evelyn</td><td>1</td></tr><tr><td>Krista</td><td>1</td></tr><tr><td>194716858</td><td>1</td></tr><tr><td>Gpa</td><td>1</td></tr></tbody></table></div>"
      ]
     },
     "metadata": {
      "application/vnd.databricks.v1+output": {
       "addedWidgets": {},
       "aggData": [],
       "aggError": "",
       "aggOverflow": false,
       "aggSchema": [],
       "aggSeriesLimitReached": false,
       "aggType": "",
       "arguments": {},
       "columnCustomDisplayInfos": {},
       "data": [
        [
         "Queens",
         4538
        ],
        [
         "Matthew",
         1
        ],
        [
         "Carmen",
         1
        ],
        [
         "D",
         1
        ],
        [
         "TiffanyJoy",
         1
        ],
        [
         "Kristin",
         1
        ],
        [
         "Brooklyn",
         16392
        ],
        [
         "Jorge",
         1
        ],
        [
         "Staten Island",
         312
        ],
        [
         "William Hakan",
         1
        ],
        [
         "Seth",
         1
        ],
        [
         "127164761",
         1
        ],
        [
         "1464358",
         1
        ],
        [
         "Manhattan",
         16564
        ],
        [
         "Bronx",
         864
        ],
        [
         "Carolyn",
         1
        ],
        [
         "Evelyn",
         1
        ],
        [
         "Krista",
         1
        ],
        [
         "194716858",
         1
        ],
        [
         "Gpa",
         1
        ]
       ],
       "datasetInfos": [],
       "dbfsResultPath": null,
       "isJsonSchema": true,
       "metadata": {},
       "overflow": false,
       "plotOptions": {
        "customPlotOptions": {
         "plotlyBar": [
          {
           "key": "grouped",
           "value": true
          },
          {
           "key": "stacked",
           "value": false
          },
          {
           "key": "100_stacked",
           "value": false
          }
         ]
        },
        "displayType": "plotlyBar",
        "pivotAggregation": "sum",
        "pivotColumns": [],
        "xColumns": [
         "neighbourhood_group"
        ],
        "yColumns": [
         "count(name)"
        ]
       },
       "removedWidgets": [],
       "schema": [
        {
         "metadata": "{}",
         "name": "neighbourhood_group",
         "type": "\"string\""
        },
        {
         "metadata": "{}",
         "name": "count(name)",
         "type": "\"long\""
        }
       ],
       "type": "table"
      }
     },
     "output_type": "display_data"
    }
   ],
   "source": [
    "display(df.groupBy(\"neighbourhood_group\").agg({\"name\":\"count\"}))"
   ]
  },
  {
   "cell_type": "code",
   "execution_count": 0,
   "metadata": {
    "application/vnd.databricks.v1+cell": {
     "inputWidgets": {},
     "nuid": "f8e5d3d7-9193-4baa-819a-12caf003e7e9",
     "showTitle": false,
     "title": ""
    }
   },
   "outputs": [
    {
     "data": {
      "text/html": [
       "<style scoped>\n",
       "  .ansiout {\n",
       "    display: block;\n",
       "    unicode-bidi: embed;\n",
       "    white-space: pre-wrap;\n",
       "    word-wrap: break-word;\n",
       "    word-break: break-all;\n",
       "    font-family: \"Source Code Pro\", \"Menlo\", monospace;;\n",
       "    font-size: 13px;\n",
       "    color: #555;\n",
       "    margin-left: 4px;\n",
       "    line-height: 19px;\n",
       "  }\n",
       "</style>\n",
       "<div class=\"ansiout\"></div>"
      ]
     },
     "metadata": {
      "application/vnd.databricks.v1+output": {
       "addedWidgets": {},
       "arguments": {},
       "data": "<div class=\"ansiout\"></div>",
       "datasetInfos": [],
       "metadata": {},
       "removedWidgets": [],
       "type": "html"
      }
     },
     "output_type": "display_data"
    }
   ],
   "source": [
    "## As per the bar chart above the Brooklyn and the Manhattan neighborhood group has the highest number of properties listed."
   ]
  },
  {
   "cell_type": "markdown",
   "metadata": {
    "application/vnd.databricks.v1+cell": {
     "inputWidgets": {},
     "nuid": "53d83b7f-b584-436a-867c-56d7752286d2",
     "showTitle": false,
     "title": ""
    }
   },
   "source": [
    "### Q. Get the top 10 neighbourhoods in New York city"
   ]
  },
  {
   "cell_type": "code",
   "execution_count": 0,
   "metadata": {
    "application/vnd.databricks.v1+cell": {
     "inputWidgets": {},
     "nuid": "6ae9d9fe-4537-402c-a771-8fde271cbde3",
     "showTitle": false,
     "title": ""
    },
    "collapsed": true
   },
   "outputs": [
    {
     "data": {
      "text/html": [
       "<style scoped>\n",
       "  .ansiout {\n",
       "    display: block;\n",
       "    unicode-bidi: embed;\n",
       "    white-space: pre-wrap;\n",
       "    word-wrap: break-word;\n",
       "    word-break: break-all;\n",
       "    font-family: \"Source Code Pro\", \"Menlo\", monospace;;\n",
       "    font-size: 13px;\n",
       "    color: #555;\n",
       "    margin-left: 4px;\n",
       "    line-height: 19px;\n",
       "  }\n",
       "</style>\n",
       "<div class=\"ansiout\">+------------------+-----------+\n",
       "     neighbourhood|count(name)|\n",
       "+------------------+-----------+\n",
       "      Williamsburg|       3156|\n",
       "Bedford-Stuyvesant|       3130|\n",
       "            Harlem|       2190|\n",
       "          Bushwick|       1937|\n",
       "    Hell&#39;s Kitchen|       1521|\n",
       "      East Village|       1488|\n",
       "   Upper West Side|       1481|\n",
       "   Upper East Side|       1399|\n",
       "     Crown Heights|       1260|\n",
       "           Midtown|        984|\n",
       "+------------------+-----------+\n",
       "only showing top 10 rows\n",
       "\n",
       "</div>"
      ]
     },
     "metadata": {
      "application/vnd.databricks.v1+output": {
       "addedWidgets": {},
       "arguments": {},
       "data": "<div class=\"ansiout\">+------------------+-----------+\n|     neighbourhood|count(name)|\n+------------------+-----------+\n|      Williamsburg|       3156|\n|Bedford-Stuyvesant|       3130|\n|            Harlem|       2190|\n|          Bushwick|       1937|\n|    Hell&#39;s Kitchen|       1521|\n|      East Village|       1488|\n|   Upper West Side|       1481|\n|   Upper East Side|       1399|\n|     Crown Heights|       1260|\n|           Midtown|        984|\n+------------------+-----------+\nonly showing top 10 rows\n\n</div>",
       "datasetInfos": [],
       "metadata": {},
       "removedWidgets": [],
       "type": "html"
      }
     },
     "output_type": "display_data"
    }
   ],
   "source": [
    "df.groupBy(\"neighbourhood\").agg({\"name\":\"count\"}).orderBy(\"count(name)\",ascending=False).show(10)"
   ]
  },
  {
   "cell_type": "markdown",
   "metadata": {
    "application/vnd.databricks.v1+cell": {
     "inputWidgets": {},
     "nuid": "74da5f14-51e0-4986-aff5-cd26fba76aa2",
     "showTitle": false,
     "title": ""
    }
   },
   "source": [
    "### Q. Number of nights stayed in shared rooms"
   ]
  },
  {
   "cell_type": "code",
   "execution_count": 0,
   "metadata": {
    "application/vnd.databricks.v1+cell": {
     "inputWidgets": {},
     "nuid": "b906eeef-10b3-4572-acb9-c97e20cdebae",
     "showTitle": false,
     "title": ""
    },
    "collapsed": true
   },
   "outputs": [
    {
     "data": {
      "text/html": [
       "<style scoped>\n",
       "  .ansiout {\n",
       "    display: block;\n",
       "    unicode-bidi: embed;\n",
       "    white-space: pre-wrap;\n",
       "    word-wrap: break-word;\n",
       "    word-break: break-all;\n",
       "    font-family: \"Source Code Pro\", \"Menlo\", monospace;;\n",
       "    font-size: 13px;\n",
       "    color: #555;\n",
       "    margin-left: 4px;\n",
       "    line-height: 19px;\n",
       "  }\n",
       "</style>\n",
       "<div class=\"ansiout\">+--------------+-----------+\n",
       "minimum_nights|  room_type|\n",
       "+--------------+-----------+\n",
       "             1|Shared room|\n",
       "             6|Shared room|\n",
       "             7|Shared room|\n",
       "             3|Shared room|\n",
       "            30|Shared room|\n",
       "             1|Shared room|\n",
       "             1|Shared room|\n",
       "             1|Shared room|\n",
       "             2|Shared room|\n",
       "             2|Shared room|\n",
       "             4|Shared room|\n",
       "             2|Shared room|\n",
       "             5|Shared room|\n",
       "             3|Shared room|\n",
       "             2|Shared room|\n",
       "             2|Shared room|\n",
       "             1|Shared room|\n",
       "             2|Shared room|\n",
       "             3|Shared room|\n",
       "             3|Shared room|\n",
       "+--------------+-----------+\n",
       "only showing top 20 rows\n",
       "\n",
       "</div>"
      ]
     },
     "metadata": {
      "application/vnd.databricks.v1+output": {
       "addedWidgets": {},
       "arguments": {},
       "data": "<div class=\"ansiout\">+--------------+-----------+\n|minimum_nights|  room_type|\n+--------------+-----------+\n|             1|Shared room|\n|             6|Shared room|\n|             7|Shared room|\n|             3|Shared room|\n|            30|Shared room|\n|             1|Shared room|\n|             1|Shared room|\n|             1|Shared room|\n|             2|Shared room|\n|             2|Shared room|\n|             4|Shared room|\n|             2|Shared room|\n|             5|Shared room|\n|             3|Shared room|\n|             2|Shared room|\n|             2|Shared room|\n|             1|Shared room|\n|             2|Shared room|\n|             3|Shared room|\n|             3|Shared room|\n+--------------+-----------+\nonly showing top 20 rows\n\n</div>",
       "datasetInfos": [],
       "metadata": {},
       "removedWidgets": [],
       "type": "html"
      }
     },
     "output_type": "display_data"
    }
   ],
   "source": [
    "df.select(\"minimum_nights\",\"room_type\").where(col(\"room_type\")==\"Shared room\").show()"
   ]
  },
  {
   "cell_type": "markdown",
   "metadata": {
    "application/vnd.databricks.v1+cell": {
     "inputWidgets": {},
     "nuid": "4e11bff2-f782-487f-ae36-d5bc6a93feb6",
     "showTitle": false,
     "title": ""
    }
   },
   "source": [
    "### Q. How many neighbourhood groups are present in the New York city?"
   ]
  },
  {
   "cell_type": "code",
   "execution_count": 0,
   "metadata": {
    "application/vnd.databricks.v1+cell": {
     "inputWidgets": {},
     "nuid": "02e9ddc8-937d-45aa-aa0e-8a37f7b5b020",
     "showTitle": false,
     "title": ""
    }
   },
   "outputs": [
    {
     "data": {
      "text/html": [
       "<style scoped>\n",
       "  .ansiout {\n",
       "    display: block;\n",
       "    unicode-bidi: embed;\n",
       "    white-space: pre-wrap;\n",
       "    word-wrap: break-word;\n",
       "    word-break: break-all;\n",
       "    font-family: \"Source Code Pro\", \"Menlo\", monospace;;\n",
       "    font-size: 13px;\n",
       "    color: #555;\n",
       "    margin-left: 4px;\n",
       "    line-height: 19px;\n",
       "  }\n",
       "</style>\n",
       "<div class=\"ansiout\">Out[42]: 20</div>"
      ]
     },
     "metadata": {
      "application/vnd.databricks.v1+output": {
       "addedWidgets": {},
       "arguments": {},
       "data": "<div class=\"ansiout\">Out[42]: 20</div>",
       "datasetInfos": [],
       "metadata": {},
       "removedWidgets": [],
       "type": "html"
      }
     },
     "output_type": "display_data"
    }
   ],
   "source": [
    "df.select(\"neighbourhood_group\").distinct().count()"
   ]
  },
  {
   "cell_type": "code",
   "execution_count": 0,
   "metadata": {
    "application/vnd.databricks.v1+cell": {
     "inputWidgets": {},
     "nuid": "c541f0fd-ae6e-4980-8991-9f1989569db8",
     "showTitle": false,
     "title": ""
    }
   },
   "outputs": [
    {
     "data": {
      "text/html": [
       "<style scoped>\n",
       "  .ansiout {\n",
       "    display: block;\n",
       "    unicode-bidi: embed;\n",
       "    white-space: pre-wrap;\n",
       "    word-wrap: break-word;\n",
       "    word-break: break-all;\n",
       "    font-family: \"Source Code Pro\", \"Menlo\", monospace;;\n",
       "    font-size: 13px;\n",
       "    color: #555;\n",
       "    margin-left: 4px;\n",
       "    line-height: 19px;\n",
       "  }\n",
       "</style>"
      ]
     },
     "metadata": {
      "application/vnd.databricks.v1+output": {
       "arguments": {},
       "data": "",
       "errorSummary": "",
       "errorTraceType": null,
       "metadata": {},
       "type": "ipynbError"
      }
     },
     "output_type": "display_data"
    }
   ],
   "source": [
    "## There are 20 neighbourhood groups"
   ]
  }
 ],
 "metadata": {
  "application/vnd.databricks.v1+notebook": {
   "dashboards": [],
   "language": "python",
   "notebookMetadata": {
    "pythonIndentUnit": 2
   },
   "notebookName": "BigData_SparkSQL_TakeHome",
   "notebookOrigID": 3492073479102888,
   "widgets": {}
  },
  "kernelspec": {
   "display_name": "Python 3 (ipykernel)",
   "language": "python",
   "name": "python3"
  },
  "language_info": {
   "codemirror_mode": {
    "name": "ipython",
    "version": 3
   },
   "file_extension": ".py",
   "mimetype": "text/x-python",
   "name": "python",
   "nbconvert_exporter": "python",
   "pygments_lexer": "ipython3",
   "version": "3.9.7"
  }
 },
 "nbformat": 4,
 "nbformat_minor": 1
}
