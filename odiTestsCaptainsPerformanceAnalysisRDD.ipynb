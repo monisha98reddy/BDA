{
 "cells": [
  {
   "cell_type": "markdown",
   "metadata": {},
   "source": [
    "# Who is best ODI captain?"
   ]
  },
  {
   "cell_type": "markdown",
   "metadata": {},
   "source": [
    "# Who is best Test captain?"
   ]
  },
  {
   "cell_type": "markdown",
   "metadata": {},
   "source": [
    "Using RDD APIs, we explore the following functionalities:\n",
    "1. Read text files\n",
    "2. Parse records and associate with a schema\n",
    "3. Filter the records\n",
    "4. Group the records\n",
    "5. Sort by key and values\n",
    "6. Apply map and reduce functions\n",
    "7. Caching RDDs\n",
    "8. Apply groupByKey() and mapValues() functions\n",
    "9. Collect data into driver\n",
    "10. Join multiple RDDs\n",
    "11. Save RDDs into files\n",
    "12. Use Broadcast variables\n",
    "13. Use Accumulators"
   ]
  },
  {
   "cell_type": "code",
   "execution_count": 9,
   "metadata": {},
   "outputs": [],
   "source": [
    "from pyspark.sql import SQLContext\n",
    "from pyspark import SparkContext\n",
    "from pyspark import StorageLevel\n",
    "from pyspark.sql.session import SparkSession"
   ]
  },
  {
   "cell_type": "code",
   "execution_count": 10,
   "metadata": {},
   "outputs": [
    {
     "name": "stderr",
     "output_type": "stream",
     "text": [
      "22/03/02 12:30:42 WARN Utils: Your hostname, ikom-ThinkPad-L450 resolves to a loopback address: 127.0.1.1; using 192.168.0.102 instead (on interface wlp4s0)\n",
      "22/03/02 12:30:42 WARN Utils: Set SPARK_LOCAL_IP if you need to bind to another address\n",
      "WARNING: An illegal reflective access operation has occurred\n",
      "WARNING: Illegal reflective access by org.apache.spark.unsafe.Platform (file:/home/ikom/nehal/pyspark/env/lib/python3.8/site-packages/pyspark/jars/spark-unsafe_2.12-3.2.1.jar) to constructor java.nio.DirectByteBuffer(long,int)\n",
      "WARNING: Please consider reporting this to the maintainers of org.apache.spark.unsafe.Platform\n",
      "WARNING: Use --illegal-access=warn to enable warnings of further illegal reflective access operations\n",
      "WARNING: All illegal access operations will be denied in a future release\n",
      "Using Spark's default log4j profile: org/apache/spark/log4j-defaults.properties\n",
      "Setting default log level to \"WARN\".\n",
      "To adjust logging level use sc.setLogLevel(newLevel). For SparkR, use setLogLevel(newLevel).\n",
      "22/03/02 12:30:44 WARN NativeCodeLoader: Unable to load native-hadoop library for your platform... using builtin-java classes where applicable\n",
      "22/03/02 12:30:46 WARN Utils: Service 'SparkUI' could not bind on port 4040. Attempting port 4041.\n",
      "/home/ikom/nehal/pyspark/env/lib/python3.8/site-packages/pyspark/sql/context.py:77: FutureWarning: Deprecated in 3.0.0. Use SparkSession.builder.getOrCreate() instead.\n",
      "  warnings.warn(\n"
     ]
    }
   ],
   "source": [
    "sc = SparkContext()\n",
    "spark = SparkSession(sc)\n",
    "sqlContext = SQLContext(sc)"
   ]
  },
  {
   "cell_type": "code",
   "execution_count": 11,
   "metadata": {},
   "outputs": [],
   "source": [
    "from pyspark import StorageLevel"
   ]
  },
  {
   "cell_type": "markdown",
   "metadata": {},
   "source": [
    "Check spark version"
   ]
  },
  {
   "cell_type": "code",
   "execution_count": 12,
   "metadata": {},
   "outputs": [
    {
     "data": {
      "text/plain": [
       "'3.2.1'"
      ]
     },
     "execution_count": 12,
     "metadata": {},
     "output_type": "execute_result"
    }
   ],
   "source": [
    "sc.version"
   ]
  },
  {
   "cell_type": "markdown",
   "metadata": {},
   "source": [
    "Check Spark Master Deployment Mode"
   ]
  },
  {
   "cell_type": "code",
   "execution_count": 13,
   "metadata": {},
   "outputs": [
    {
     "data": {
      "text/plain": [
       "'local[*]'"
      ]
     },
     "execution_count": 13,
     "metadata": {},
     "output_type": "execute_result"
    }
   ],
   "source": [
    "sc.master"
   ]
  },
  {
   "cell_type": "markdown",
   "metadata": {},
   "source": [
    "Spark Application Name and ID"
   ]
  },
  {
   "cell_type": "code",
   "execution_count": 14,
   "metadata": {},
   "outputs": [
    {
     "data": {
      "text/plain": [
       "'pyspark-shell'"
      ]
     },
     "execution_count": 14,
     "metadata": {},
     "output_type": "execute_result"
    }
   ],
   "source": [
    "sc.appName"
   ]
  },
  {
   "cell_type": "code",
   "execution_count": 15,
   "metadata": {},
   "outputs": [
    {
     "data": {
      "text/plain": [
       "'local-1646204446999'"
      ]
     },
     "execution_count": 15,
     "metadata": {},
     "output_type": "execute_result"
    }
   ],
   "source": [
    "sc.applicationId"
   ]
  },
  {
   "cell_type": "markdown",
   "metadata": {},
   "source": [
    "Spark python version"
   ]
  },
  {
   "cell_type": "code",
   "execution_count": 16,
   "metadata": {},
   "outputs": [
    {
     "data": {
      "text/plain": [
       "'3.8'"
      ]
     },
     "execution_count": 16,
     "metadata": {},
     "output_type": "execute_result"
    }
   ],
   "source": [
    "sc.pythonVer"
   ]
  },
  {
   "cell_type": "markdown",
   "metadata": {},
   "source": [
    "Read ODI Captains data"
   ]
  },
  {
   "cell_type": "code",
   "execution_count": 17,
   "metadata": {},
   "outputs": [],
   "source": [
    "odiData = sc.textFile( \"ODIData.csv\" )"
   ]
  },
  {
   "cell_type": "markdown",
   "metadata": {},
   "source": [
    "Check first record"
   ]
  },
  {
   "cell_type": "code",
   "execution_count": 18,
   "metadata": {},
   "outputs": [
    {
     "name": "stderr",
     "output_type": "stream",
     "text": [
      "                                                                                \r"
     ]
    },
    {
     "data": {
      "text/plain": [
       "'Ponting  R T,Australia,1995-2012,230,165,51,14,124'"
      ]
     },
     "execution_count": 18,
     "metadata": {},
     "output_type": "execute_result"
    }
   ],
   "source": [
    "odiData.first()"
   ]
  },
  {
   "cell_type": "markdown",
   "metadata": {},
   "source": [
    "Display first 5 records"
   ]
  },
  {
   "cell_type": "code",
   "execution_count": 19,
   "metadata": {},
   "outputs": [
    {
     "data": {
      "text/plain": [
       "['Ponting  R T,Australia,1995-2012,230,165,51,14,124',\n",
       " 'Fleming  S P,New Zealand,1994-2007,218,98,106,14,105',\n",
       " 'Ranatunga  A,Sri Lanka,1982-1999,193,89,95,9,102',\n",
       " 'Dhoni  M S*,India,2004-,186,103,68,15,88',\n",
       " 'Border  A R,Australia,1979-1994,178,107,67,4,86']"
      ]
     },
     "execution_count": 19,
     "metadata": {},
     "output_type": "execute_result"
    }
   ],
   "source": [
    "odiData.take(5) "
   ]
  },
  {
   "cell_type": "markdown",
   "metadata": {},
   "source": [
    "Check the RDD type"
   ]
  },
  {
   "cell_type": "code",
   "execution_count": 20,
   "metadata": {},
   "outputs": [
    {
     "data": {
      "text/plain": [
       "pyspark.rdd.RDD"
      ]
     },
     "execution_count": 20,
     "metadata": {},
     "output_type": "execute_result"
    }
   ],
   "source": [
    "#odiData should be of RDD type\n",
    "type( odiData )"
   ]
  },
  {
   "cell_type": "code",
   "execution_count": 21,
   "metadata": {},
   "outputs": [
    {
     "ename": "AttributeError",
     "evalue": "type object 'StorageLevel' has no attribute 'MEMORY_ONLY_SER'",
     "output_type": "error",
     "traceback": [
      "\u001b[0;31m---------------------------------------------------------------------------\u001b[0m",
      "\u001b[0;31mAttributeError\u001b[0m                            Traceback (most recent call last)",
      "\u001b[1;32m/home/ikom/nehal/pyspark/odiTestsCaptainsPerformanceAnalysisRDD.ipynb Cell 24'\u001b[0m in \u001b[0;36m<cell line: 1>\u001b[0;34m()\u001b[0m\n\u001b[0;32m----> <a href='vscode-notebook-cell:/home/ikom/nehal/pyspark/odiTestsCaptainsPerformanceAnalysisRDD.ipynb#ch0000023?line=0'>1</a>\u001b[0m odiData\u001b[39m.\u001b[39mpersist( StorageLevel\u001b[39m.\u001b[39mMEMORY_ONLY_SER )\n",
      "\u001b[0;31mAttributeError\u001b[0m: type object 'StorageLevel' has no attribute 'MEMORY_ONLY_SER'"
     ]
    }
   ],
   "source": [
    "odiData.persist( StorageLevel.MEMORY_ONLY_SER )"
   ]
  },
  {
   "cell_type": "markdown",
   "metadata": {},
   "source": [
    "Count the number of records"
   ]
  },
  {
   "cell_type": "code",
   "execution_count": 22,
   "metadata": {},
   "outputs": [
    {
     "data": {
      "text/plain": [
       "98"
      ]
     },
     "execution_count": 22,
     "metadata": {},
     "output_type": "execute_result"
    }
   ],
   "source": [
    "odiData.count()"
   ]
  },
  {
   "cell_type": "markdown",
   "metadata": {},
   "source": [
    "Parse the lines to create records¶"
   ]
  },
  {
   "cell_type": "markdown",
   "metadata": {},
   "source": [
    "Each line from the file is taken as a record. The records are not associated with a schema. \n",
    "\n",
    "Now we define a schema and associate the fields in each line with the schema. One way of doing it is defining a named tuple and converting the lines into named tuples."
   ]
  },
  {
   "cell_type": "code",
   "execution_count": 23,
   "metadata": {},
   "outputs": [],
   "source": [
    "fields = (\"name\", \"country\", \"career\", \"matches\", \"won\", \"lost\", \"ties\", \"toss\" )"
   ]
  },
  {
   "cell_type": "code",
   "execution_count": 24,
   "metadata": {},
   "outputs": [],
   "source": [
    "from collections import namedtuple"
   ]
  },
  {
   "cell_type": "markdown",
   "metadata": {},
   "source": [
    "Let us define a tuple ( a record ) for each line. We need to iterate through each line and convert that into a record. The record can be defined as a namedTuple type and called Captain. Let's also link the names for the fields"
   ]
  },
  {
   "cell_type": "code",
   "execution_count": 25,
   "metadata": {},
   "outputs": [
    {
     "name": "stdout",
     "output_type": "stream",
     "text": [
      "<class 'collections.Captain'>\n"
     ]
    }
   ],
   "source": [
    "Captain = namedtuple( 'Captain', fields )\n",
    "print(Captain)"
   ]
  },
  {
   "cell_type": "markdown",
   "metadata": {},
   "source": [
    "Parse lines into named tuples"
   ]
  },
  {
   "cell_type": "markdown",
   "metadata": {},
   "source": [
    "Create a function to parse the lines and create namedtuples. Then iterate through the data and convert them into records i.e. named tuples."
   ]
  },
  {
   "cell_type": "code",
   "execution_count": 26,
   "metadata": {},
   "outputs": [],
   "source": [
    "# Function to parse each line and convert them into records\n",
    "def parseRecs( line ):\n",
    "  fields = line.split(\",\")\n",
    "  return Captain( fields[0], fields[1], fields[2], int( fields[3] ),\n",
    "                 int( fields[4] ), int(fields[5]), int(fields[6]), int(fields[7] ) )"
   ]
  },
  {
   "cell_type": "code",
   "execution_count": 31,
   "metadata": {},
   "outputs": [
    {
     "data": {
      "text/plain": [
       "[Captain(name='Ponting  R T', country='Australia', career='1995-2012', matches=230, won=165, lost=51, ties=14, toss=124),\n",
       " Captain(name='Fleming  S P', country='New Zealand', career='1994-2007', matches=218, won=98, lost=106, ties=14, toss=105),\n",
       " Captain(name='Ranatunga  A', country='Sri Lanka', career='1982-1999', matches=193, won=89, lost=95, ties=9, toss=102),\n",
       " Captain(name='Dhoni  M S*', country='India', career='2004-', matches=186, won=103, lost=68, ties=15, toss=88),\n",
       " Captain(name='Border  A R', country='Australia', career='1979-1994', matches=178, won=107, lost=67, ties=4, toss=86)]"
      ]
     },
     "execution_count": 31,
     "metadata": {},
     "output_type": "execute_result"
    },
    {
     "name": "stderr",
     "output_type": "stream",
     "text": [
      "22/03/02 13:48:27 WARN HeartbeatReceiver: Removing executor driver with no recent heartbeats: 3221445 ms exceeds timeout 120000 ms\n",
      "22/03/02 13:48:27 WARN SparkContext: Killing executors is not supported by current scheduler.\n"
     ]
    }
   ],
   "source": [
    "captains = odiData.map( lambda rec: parseRecs( rec) ) \n",
    "captains.collect()[:5]"
   ]
  },
  {
   "cell_type": "markdown",
   "metadata": {},
   "source": [
    "Cache the RDD"
   ]
  },
  {
   "cell_type": "markdown",
   "metadata": {},
   "source": [
    "Since we will be using the RDD in future for many analysis, let's cache the RDD"
   ]
  },
  {
   "cell_type": "code",
   "execution_count": null,
   "metadata": {},
   "outputs": [
    {
     "data": {
      "text/plain": [
       "PythonRDD[5] at RDD at PythonRDD.scala:53"
      ]
     },
     "execution_count": 20,
     "metadata": {},
     "output_type": "execute_result"
    }
   ],
   "source": [
    "captains.cache()"
   ]
  },
  {
   "cell_type": "markdown",
   "metadata": {},
   "source": [
    "Now captains refer to all the records. Let's display the first 5 records"
   ]
  },
  {
   "cell_type": "code",
   "execution_count": null,
   "metadata": {},
   "outputs": [
    {
     "data": {
      "text/plain": [
       "[Captain(name='Ponting  R T', country='Australia', career='1995-2012', matches=230, won=165, lost=51, ties=14, toss=124),\n",
       " Captain(name='Fleming  S P', country='New Zealand', career='1994-2007', matches=218, won=98, lost=106, ties=14, toss=105),\n",
       " Captain(name='Ranatunga  A', country='Sri Lanka', career='1982-1999', matches=193, won=89, lost=95, ties=9, toss=102),\n",
       " Captain(name='Dhoni  M S*', country='India', career='2004-', matches=186, won=103, lost=68, ties=15, toss=88),\n",
       " Captain(name='Border  A R', country='Australia', career='1979-1994', matches=178, won=107, lost=67, ties=4, toss=86)]"
      ]
     },
     "execution_count": 21,
     "metadata": {},
     "output_type": "execute_result"
    }
   ],
   "source": [
    "captains.take(5)"
   ]
  },
  {
   "cell_type": "markdown",
   "metadata": {},
   "source": [
    "What is the type of the captains RDD?"
   ]
  },
  {
   "cell_type": "code",
   "execution_count": null,
   "metadata": {},
   "outputs": [
    {
     "data": {
      "text/plain": [
       "pyspark.rdd.PipelinedRDD"
      ]
     },
     "execution_count": 22,
     "metadata": {},
     "output_type": "execute_result"
    }
   ],
   "source": [
    "type( captains )\n"
   ]
  },
  {
   "cell_type": "markdown",
   "metadata": {},
   "source": [
    "Exploratory data analysis"
   ]
  },
  {
   "cell_type": "markdown",
   "metadata": {},
   "source": [
    "Filter the records: Captains' who captained for more than 100 ODIs"
   ]
  },
  {
   "cell_type": "markdown",
   "metadata": {},
   "source": [
    "Filter only those captains that have captained for at least 100 ODI matches. And then we can compare the statistics of these captains"
   ]
  },
  {
   "cell_type": "code",
   "execution_count": null,
   "metadata": {},
   "outputs": [],
   "source": [
    "captains_100 = captains.filter( lambda rec: rec.matches > 100 ) "
   ]
  },
  {
   "cell_type": "markdown",
   "metadata": {},
   "source": [
    "How many captains have captained their country for more than 100 ODIs?"
   ]
  },
  {
   "cell_type": "code",
   "execution_count": null,
   "metadata": {},
   "outputs": [
    {
     "data": {
      "text/plain": [
       "16"
      ]
     },
     "execution_count": 24,
     "metadata": {},
     "output_type": "execute_result"
    }
   ],
   "source": [
    "captains_100.count()"
   ]
  },
  {
   "cell_type": "markdown",
   "metadata": {},
   "source": [
    "Who are these captains"
   ]
  },
  {
   "cell_type": "code",
   "execution_count": null,
   "metadata": {},
   "outputs": [
    {
     "data": {
      "text/plain": [
       "[Captain(name='Ponting  R T', country='Australia', career='1995-2012', matches=230, won=165, lost=51, ties=14, toss=124),\n",
       " Captain(name='Fleming  S P', country='New Zealand', career='1994-2007', matches=218, won=98, lost=106, ties=14, toss=105),\n",
       " Captain(name='Ranatunga  A', country='Sri Lanka', career='1982-1999', matches=193, won=89, lost=95, ties=9, toss=102),\n",
       " Captain(name='Dhoni  M S*', country='India', career='2004-', matches=186, won=103, lost=68, ties=15, toss=88),\n",
       " Captain(name='Border  A R', country='Australia', career='1979-1994', matches=178, won=107, lost=67, ties=4, toss=86),\n",
       " Captain(name='Azharuddin  M', country='India', career='1985-2000', matches=174, won=89, lost=77, ties=8, toss=96),\n",
       " Captain(name='Smith  G C', country='South Africa', career='2002-2013', matches=149, won=91, lost=51, ties=7, toss=74),\n",
       " Captain(name='Ganguly  S C', country='India', career='1992-2007', matches=147, won=76, lost=66, ties=5, toss=74),\n",
       " Captain(name='Cronje  W J', country='South Africa', career='1992-2000', matches=140, won=99, lost=37, ties=4, toss=74),\n",
       " Captain(name='Imran Khan', country='Pakistan', career='1974-1992', matches=139, won=75, lost=59, ties=5, toss=70)]"
      ]
     },
     "execution_count": 25,
     "metadata": {},
     "output_type": "execute_result"
    }
   ],
   "source": [
    "captains_100.take( 10 )"
   ]
  },
  {
   "cell_type": "markdown",
   "metadata": {},
   "source": [
    "Write an utility / data function to return num captains"
   ]
  },
  {
   "cell_type": "code",
   "execution_count": null,
   "metadata": {},
   "outputs": [],
   "source": [
    "def getNumCaptainsByMinMatches( anRDD, num_matches ):\n",
    "  return anRDD.map( lambda rec: parseRecs( rec) ).filter( lambda rec: rec.matches > num_matches ).count()"
   ]
  },
  {
   "cell_type": "code",
   "execution_count": null,
   "metadata": {},
   "outputs": [
    {
     "data": {
      "text/plain": [
       "16"
      ]
     },
     "execution_count": 27,
     "metadata": {},
     "output_type": "execute_result"
    }
   ],
   "source": [
    "getNumCaptainsByMinMatches(odiData, 100 )"
   ]
  },
  {
   "cell_type": "markdown",
   "metadata": {},
   "source": [
    "Captains with more wins than losses"
   ]
  },
  {
   "cell_type": "code",
   "execution_count": null,
   "metadata": {},
   "outputs": [],
   "source": [
    "captains_more_wins = captains_100.filter( lambda rec: rec.won > rec.lost )"
   ]
  },
  {
   "cell_type": "markdown",
   "metadata": {},
   "source": [
    "Collect the captain names in the driver"
   ]
  },
  {
   "cell_type": "code",
   "execution_count": null,
   "metadata": {},
   "outputs": [
    {
     "data": {
      "text/plain": [
       "['Ponting  R T',\n",
       " 'Dhoni  M S*',\n",
       " 'Border  A R',\n",
       " 'Azharuddin  M',\n",
       " 'Smith  G C',\n",
       " 'Ganguly  S C',\n",
       " 'Cronje  W J',\n",
       " 'Imran Khan',\n",
       " 'Jayawardene  D P M',\n",
       " 'Jayasuriya  S T',\n",
       " 'Wasim Akram',\n",
       " 'Waugh  S R',\n",
       " 'Richards  I V A']"
      ]
     },
     "execution_count": 29,
     "metadata": {},
     "output_type": "execute_result"
    }
   ],
   "source": [
    "# Captains with more wins than losses\n",
    "captains_more_wins.map( lambda rec: rec.name ).collect()"
   ]
  },
  {
   "cell_type": "code",
   "execution_count": null,
   "metadata": {},
   "outputs": [
    {
     "data": {
      "text/plain": [
       "['Fleming  S P', 'Ranatunga  A', 'Lara  B C']"
      ]
     },
     "execution_count": 30,
     "metadata": {},
     "output_type": "execute_result"
    }
   ],
   "source": [
    "# Captains with less wins than losses\n",
    "captains_more_losts = captains_100.filter( lambda rec: rec.won <= rec.lost )\n",
    "captains_more_losts.map( lambda rec: rec.name ).collect()"
   ]
  },
  {
   "cell_type": "markdown",
   "metadata": {},
   "source": [
    "Creat a subset of data by filtering columns"
   ]
  },
  {
   "cell_type": "code",
   "execution_count": null,
   "metadata": {},
   "outputs": [],
   "source": [
    "# Which country has played how many matches..\n",
    "countries = captains.map( lambda rec: ( rec.country , rec.matches) )"
   ]
  },
  {
   "cell_type": "code",
   "execution_count": null,
   "metadata": {},
   "outputs": [
    {
     "data": {
      "text/plain": [
       "[('Australia', 230),\n",
       " ('New Zealand', 218),\n",
       " ('Sri Lanka', 193),\n",
       " ('India', 186),\n",
       " ('Australia', 178),\n",
       " ('India', 174),\n",
       " ('South Africa', 149),\n",
       " ('India', 147),\n",
       " ('South Africa', 140),\n",
       " ('Pakistan', 139)]"
      ]
     },
     "execution_count": 32,
     "metadata": {},
     "output_type": "execute_result"
    }
   ],
   "source": [
    "countries.take( 10 )"
   ]
  },
  {
   "cell_type": "code",
   "execution_count": null,
   "metadata": {},
   "outputs": [],
   "source": [
    "# Aggregate by countries\n",
    "matches_countries = countries.reduceByKey( lambda a, b: a + b )"
   ]
  },
  {
   "cell_type": "code",
   "execution_count": null,
   "metadata": {},
   "outputs": [
    {
     "data": {
      "text/plain": [
       "[('Australia', 832),\n",
       " ('India', 770),\n",
       " ('South Africa', 463),\n",
       " ('Pakistan', 781),\n",
       " ('West Indies', 658),\n",
       " ('Kenya', 114),\n",
       " ('Ireland', 93),\n",
       " ('Netherlands', 31),\n",
       " ('Bermuda', 31),\n",
       " ('New Zealand', 608),\n",
       " ('Sri Lanka', 710),\n",
       " ('Zimbabwe', 394),\n",
       " ('England', 554),\n",
       " ('Bangladesh', 251),\n",
       " ('Afghanistan', 50),\n",
       " ('Canada', 27)]"
      ]
     },
     "execution_count": 34,
     "metadata": {},
     "output_type": "execute_result"
    }
   ],
   "source": [
    "matches_countries.take( 20 )"
   ]
  },
  {
   "cell_type": "markdown",
   "metadata": {},
   "source": [
    "# Aggregate values by keys"
   ]
  },
  {
   "cell_type": "code",
   "execution_count": null,
   "metadata": {},
   "outputs": [],
   "source": [
    "# Aggregate by countries\n",
    "matches_countries = countries.reduceByKey( lambda a, b: a + b )"
   ]
  },
  {
   "cell_type": "code",
   "execution_count": null,
   "metadata": {},
   "outputs": [
    {
     "data": {
      "text/plain": [
       "[('Australia', 832),\n",
       " ('India', 770),\n",
       " ('South Africa', 463),\n",
       " ('Pakistan', 781),\n",
       " ('West Indies', 658),\n",
       " ('Kenya', 114),\n",
       " ('Ireland', 93),\n",
       " ('Netherlands', 31),\n",
       " ('Bermuda', 31),\n",
       " ('New Zealand', 608),\n",
       " ('Sri Lanka', 710),\n",
       " ('Zimbabwe', 394),\n",
       " ('England', 554),\n",
       " ('Bangladesh', 251),\n",
       " ('Afghanistan', 50),\n",
       " ('Canada', 27)]"
      ]
     },
     "execution_count": 36,
     "metadata": {},
     "output_type": "execute_result"
    }
   ],
   "source": [
    "matches_countries.take( 20 )"
   ]
  },
  {
   "cell_type": "code",
   "execution_count": null,
   "metadata": {},
   "outputs": [
    {
     "data": {
      "text/plain": [
       "[('Afghanistan', 50),\n",
       " ('Australia', 832),\n",
       " ('Bangladesh', 251),\n",
       " ('Bermuda', 31),\n",
       " ('Canada', 27),\n",
       " ('England', 554),\n",
       " ('India', 770),\n",
       " ('Ireland', 93),\n",
       " ('Kenya', 114),\n",
       " ('Netherlands', 31),\n",
       " ('New Zealand', 608),\n",
       " ('Pakistan', 781),\n",
       " ('South Africa', 463),\n",
       " ('Sri Lanka', 710),\n",
       " ('West Indies', 658),\n",
       " ('Zimbabwe', 394)]"
      ]
     },
     "execution_count": 37,
     "metadata": {},
     "output_type": "execute_result"
    }
   ],
   "source": [
    "# Sort the countries by the number of matches they played. \n",
    "# Sort by names...(sort by key)\n",
    "matches_countries.sortByKey().collect()"
   ]
  },
  {
   "cell_type": "markdown",
   "metadata": {},
   "source": [
    "Sort records"
   ]
  },
  {
   "cell_type": "code",
   "execution_count": null,
   "metadata": {},
   "outputs": [
    {
     "data": {
      "text/plain": [
       "[('Zimbabwe', 394),\n",
       " ('West Indies', 658),\n",
       " ('Sri Lanka', 710),\n",
       " ('South Africa', 463),\n",
       " ('Pakistan', 781),\n",
       " ('New Zealand', 608),\n",
       " ('Netherlands', 31),\n",
       " ('Kenya', 114),\n",
       " ('Ireland', 93),\n",
       " ('India', 770),\n",
       " ('England', 554),\n",
       " ('Canada', 27),\n",
       " ('Bermuda', 31),\n",
       " ('Bangladesh', 251),\n",
       " ('Australia', 832),\n",
       " ('Afghanistan', 50)]"
      ]
     },
     "execution_count": 38,
     "metadata": {},
     "output_type": "execute_result"
    }
   ],
   "source": [
    "matches_countries.sortByKey( ascending = False ).collect()"
   ]
  },
  {
   "cell_type": "code",
   "execution_count": null,
   "metadata": {},
   "outputs": [
    {
     "data": {
      "text/plain": [
       "[('Canada', 27),\n",
       " ('Netherlands', 31),\n",
       " ('Bermuda', 31),\n",
       " ('Afghanistan', 50),\n",
       " ('Ireland', 93),\n",
       " ('Kenya', 114),\n",
       " ('Bangladesh', 251),\n",
       " ('Zimbabwe', 394),\n",
       " ('South Africa', 463),\n",
       " ('England', 554),\n",
       " ('New Zealand', 608),\n",
       " ('West Indies', 658),\n",
       " ('Sri Lanka', 710),\n",
       " ('India', 770),\n",
       " ('Pakistan', 781),\n",
       " ('Australia', 832)]"
      ]
     },
     "execution_count": 39,
     "metadata": {},
     "output_type": "execute_result"
    }
   ],
   "source": [
    "# Sort by values.. default is ascending...\n",
    "matches_countries.sortBy( lambda rec: rec[1] ).collect()"
   ]
  },
  {
   "cell_type": "code",
   "execution_count": null,
   "metadata": {},
   "outputs": [
    {
     "data": {
      "text/plain": [
       "[('Australia', 832),\n",
       " ('Pakistan', 781),\n",
       " ('India', 770),\n",
       " ('Sri Lanka', 710),\n",
       " ('West Indies', 658),\n",
       " ('New Zealand', 608),\n",
       " ('England', 554),\n",
       " ('South Africa', 463),\n",
       " ('Zimbabwe', 394),\n",
       " ('Bangladesh', 251),\n",
       " ('Kenya', 114),\n",
       " ('Ireland', 93),\n",
       " ('Afghanistan', 50),\n",
       " ('Netherlands', 31),\n",
       " ('Bermuda', 31),\n",
       " ('Canada', 27)]"
      ]
     },
     "execution_count": 40,
     "metadata": {},
     "output_type": "execute_result"
    }
   ],
   "source": [
    "# Sort by value by descending\n",
    "matches_countries.sortBy( lambda rec: rec[1], ascending = False ).collect()"
   ]
  },
  {
   "cell_type": "markdown",
   "metadata": {},
   "source": [
    "Write a data function to return countries and total matches played in sorted order"
   ]
  },
  {
   "cell_type": "code",
   "execution_count": null,
   "metadata": {},
   "outputs": [],
   "source": [
    "def getNumMatchesPerCountry( anRDD ):\n",
    "  return anRDD.map( lambda rec: parseRecs( rec) )          \\\n",
    "  .map( lambda rec: ( rec.country , rec.matches) )         \\\n",
    "  .reduceByKey( lambda a, b: a + b )                       \\\n",
    "  .sortBy( lambda rec: rec[1], ascending = False )"
   ]
  },
  {
   "cell_type": "markdown",
   "metadata": {},
   "source": [
    "Test the Function: getNumMatchesPerCountry"
   ]
  },
  {
   "cell_type": "markdown",
   "metadata": {},
   "source": [
    "Invoking the Function"
   ]
  },
  {
   "cell_type": "code",
   "execution_count": null,
   "metadata": {},
   "outputs": [
    {
     "data": {
      "text/plain": [
       "[('Australia', 832),\n",
       " ('Pakistan', 781),\n",
       " ('India', 770),\n",
       " ('Sri Lanka', 710),\n",
       " ('West Indies', 658),\n",
       " ('New Zealand', 608),\n",
       " ('England', 554),\n",
       " ('South Africa', 463),\n",
       " ('Zimbabwe', 394),\n",
       " ('Bangladesh', 251)]"
      ]
     },
     "execution_count": 42,
     "metadata": {},
     "output_type": "execute_result"
    }
   ],
   "source": [
    "getNumMatchesPerCountry( odiData ).take( 10 )"
   ]
  },
  {
   "cell_type": "markdown",
   "metadata": {},
   "source": [
    "Top Captains by Percentage Wins"
   ]
  },
  {
   "cell_type": "code",
   "execution_count": null,
   "metadata": {},
   "outputs": [
    {
     "data": {
      "text/plain": [
       "[('Ponting  R T', 0.72),\n",
       " ('Cronje  W J', 0.71),\n",
       " ('Richards  I V A', 0.64),\n",
       " ('Waugh  S R', 0.63),\n",
       " ('Smith  G C', 0.61),\n",
       " ('Wasim Akram', 0.61),\n",
       " ('Border  A R', 0.6),\n",
       " ('Jayasuriya  S T', 0.56),\n",
       " ('Dhoni  M S*', 0.55),\n",
       " ('Jayawardene  D P M', 0.55),\n",
       " ('Imran Khan', 0.54),\n",
       " ('Ganguly  S C', 0.52),\n",
       " ('Azharuddin  M', 0.51),\n",
       " ('Lara  B C', 0.47),\n",
       " ('Ranatunga  A', 0.46),\n",
       " ('Fleming  S P', 0.45)]"
      ]
     },
     "execution_count": 43,
     "metadata": {},
     "output_type": "execute_result"
    }
   ],
   "source": [
    "# Captains by percentage of wins\n",
    "captains_100_percent_wins = captains_100.map(\n",
    "  lambda rec: ( rec.name, round( rec.won/rec.matches, 2 ) ) )\n",
    "\n",
    "# Sort by percentage wins\n",
    "captains_100_percent_wins.sortBy(\n",
    "  lambda rec: rec[1], ascending = False ).collect()"
   ]
  },
  {
   "cell_type": "markdown",
   "metadata": {},
   "source": [
    "Lucky Captains"
   ]
  },
  {
   "cell_type": "code",
   "execution_count": null,
   "metadata": {},
   "outputs": [],
   "source": [
    "# Captains by percentage of wins\n",
    "lucky_captains = captains_100.map(\n",
    "  lambda rec: ( rec.name, round( rec.toss / rec.matches, 2 ) ) )"
   ]
  },
  {
   "cell_type": "code",
   "execution_count": null,
   "metadata": {},
   "outputs": [
    {
     "data": {
      "text/plain": [
       "[('Azharuddin  M', 0.55),\n",
       " ('Ponting  R T', 0.54),\n",
       " ('Ranatunga  A', 0.53),\n",
       " ('Cronje  W J', 0.53),\n",
       " ('Wasim Akram', 0.53)]"
      ]
     },
     "execution_count": 45,
     "metadata": {},
     "output_type": "execute_result"
    }
   ],
   "source": [
    "lucky_captains.sortBy( lambda rec: rec[1], ascending = False ).take( 5 )"
   ]
  },
  {
   "cell_type": "markdown",
   "metadata": {},
   "source": [
    "# Now lets Captains'' Test Match Performances"
   ]
  },
  {
   "cell_type": "markdown",
   "metadata": {},
   "source": [
    "Load the dataset"
   ]
  },
  {
   "cell_type": "code",
   "execution_count": null,
   "metadata": {},
   "outputs": [],
   "source": [
    "testsData = sc.textFile( \"hdfs://hadoopns/user/narayana_greatlearning/TestsData.csv\" )"
   ]
  },
  {
   "cell_type": "code",
   "execution_count": null,
   "metadata": {},
   "outputs": [],
   "source": [
    "# Parse the records\n",
    "testsData_recs = testsData.map( lambda rec: parseRecs( rec ) )"
   ]
  },
  {
   "cell_type": "code",
   "execution_count": null,
   "metadata": {},
   "outputs": [],
   "source": [
    "# Display the first 10 records\n",
    "testsData_recs.take( 10 )"
   ]
  },
  {
   "cell_type": "code",
   "execution_count": null,
   "metadata": {},
   "outputs": [],
   "source": [
    "# Filter the captains who have captained for more than 100 tests\n",
    "testsData_100 = testsData_recs.filter( lambda rec: rec.matches > 100 )"
   ]
  },
  {
   "cell_type": "code",
   "execution_count": null,
   "metadata": {},
   "outputs": [],
   "source": [
    "## How many captains?\n",
    "testsData_100.take( 10 )"
   ]
  },
  {
   "cell_type": "markdown",
   "metadata": {},
   "source": [
    "Observe that:\n",
    "\n",
    "There is only one captain who has captained more then 100 tests. So, we must lower the number of matches to look at more captains performance. We will filter out all captains who have played more than 50 matches."
   ]
  },
  {
   "cell_type": "code",
   "execution_count": null,
   "metadata": {},
   "outputs": [],
   "source": [
    "# Filter the captains who have captained for more than 50 tests\n",
    "testsData_50 = testsData_recs.filter( lambda rec: rec.matches > 50 )"
   ]
  },
  {
   "cell_type": "code",
   "execution_count": null,
   "metadata": {},
   "outputs": [],
   "source": [
    "testsData_50.take( 5 )"
   ]
  },
  {
   "cell_type": "markdown",
   "metadata": {},
   "source": [
    "Calculate the test percentage wins"
   ]
  },
  {
   "cell_type": "code",
   "execution_count": null,
   "metadata": {},
   "outputs": [],
   "source": [
    "# Sort the captains by percentage of wins\n",
    "captain_top = testsData_50.map(\n",
    "  lambda rec: ( rec.name,\n",
    "               round( rec.won/rec.matches,\n",
    "                     2 ) ) ).sortBy( lambda rec: rec[1], ascending = False )"
   ]
  },
  {
   "cell_type": "code",
   "execution_count": null,
   "metadata": {},
   "outputs": [],
   "source": [
    "captain_top.collect()"
   ]
  },
  {
   "cell_type": "markdown",
   "metadata": {},
   "source": [
    "Join multiple data sets"
   ]
  },
  {
   "cell_type": "code",
   "execution_count": null,
   "metadata": {},
   "outputs": [],
   "source": [
    "# Lets join both ODI and Test captaincy details. \n",
    "# Default is inner join...\n",
    "all_time_best_captains = captains_100_percent_wins.join( captain_top )"
   ]
  },
  {
   "cell_type": "code",
   "execution_count": null,
   "metadata": {},
   "outputs": [],
   "source": [
    "all_time_best_captains.collect()"
   ]
  },
  {
   "cell_type": "code",
   "execution_count": null,
   "metadata": {},
   "outputs": [],
   "source": [
    "## Best by test match wins\n",
    "all_time_best_captains.sortBy( lambda rec: rec[1][1],\n",
    "                            ascending = False ).collect()"
   ]
  },
  {
   "cell_type": "code",
   "execution_count": null,
   "metadata": {},
   "outputs": [],
   "source": [
    "## Best by ODI match wins\n",
    "all_time_best_captains.sortBy( lambda rec: rec[1][0],\n",
    "                            ascending = False ).collect()"
   ]
  },
  {
   "cell_type": "markdown",
   "metadata": {},
   "source": [
    "Flattening the tuples"
   ]
  },
  {
   "cell_type": "code",
   "execution_count": null,
   "metadata": {},
   "outputs": [],
   "source": [
    "## Now let's flatten the structure and store the results into a file...\n",
    "best_captains = all_time_best_captains.map( lambda rec:\n",
    "                                         ( rec[0],\n",
    "                                          rec[1][0],\n",
    "                                          rec[1][1] ) )\n",
    "best_captains.take( 10 )"
   ]
  },
  {
   "cell_type": "markdown",
   "metadata": {},
   "source": [
    "Save results into filesystem"
   ]
  },
  {
   "cell_type": "code",
   "execution_count": null,
   "metadata": {},
   "outputs": [],
   "source": [
    "best_captains.saveAsTextFile( \"hdfs://hadoopns/user/narayana_greatlearning/captains\")"
   ]
  },
  {
   "cell_type": "markdown",
   "metadata": {},
   "source": [
    "Generate the key and values"
   ]
  },
  {
   "cell_type": "code",
   "execution_count": null,
   "metadata": {},
   "outputs": [],
   "source": [
    "country_matches_list = captains.map( lambda rec: ( rec.country , ( rec.won, rec.matches ) ) )"
   ]
  },
  {
   "cell_type": "code",
   "execution_count": null,
   "metadata": {},
   "outputs": [],
   "source": [
    "country_matches_list.take( 5 )"
   ]
  },
  {
   "cell_type": "markdown",
   "metadata": {},
   "source": [
    "Group the values"
   ]
  },
  {
   "cell_type": "code",
   "execution_count": null,
   "metadata": {},
   "outputs": [],
   "source": [
    "country_matches_list.groupByKey().mapValues( lambda rec: list( rec ) ).take( 2 )"
   ]
  },
  {
   "cell_type": "markdown",
   "metadata": {},
   "source": [
    "Apply sum() to each element of values tuple"
   ]
  },
  {
   "cell_type": "markdown",
   "metadata": {},
   "source": [
    "Broadcasting Variables"
   ]
  },
  {
   "cell_type": "code",
   "execution_count": null,
   "metadata": {},
   "outputs": [],
   "source": [
    "def getNumCaptainsByMinimumMatches( anRDD, num_matches ):\n",
    "  min_matches = sc.broadcast( num_matches )\n",
    "  return anRDD.map( lambda rec: parseRecs( rec) ).filter( lambda rec: rec.matches > min_matches.value ).count()"
   ]
  },
  {
   "cell_type": "code",
   "execution_count": null,
   "metadata": {},
   "outputs": [],
   "source": [
    "getNumCaptainsByMinimumMatches( odiData, 100 )"
   ]
  },
  {
   "cell_type": "code",
   "execution_count": null,
   "metadata": {},
   "outputs": [],
   "source": [
    "getNumCaptainsByMinimumMatches( odiData, 50 )"
   ]
  },
  {
   "cell_type": "markdown",
   "metadata": {},
   "source": [
    "Accumulators"
   ]
  },
  {
   "cell_type": "code",
   "execution_count": null,
   "metadata": {},
   "outputs": [],
   "source": [
    "def parRecsNew( line ):\n",
    "  global playing_caps\n",
    "  if \"*\" in line:\n",
    "     playing_caps.add( 1 )\n",
    "  return parseRecs( line )"
   ]
  },
  {
   "cell_type": "code",
   "execution_count": null,
   "metadata": {},
   "outputs": [],
   "source": [
    "playing_caps = sc.accumulator(0)"
   ]
  },
  {
   "cell_type": "code",
   "execution_count": null,
   "metadata": {},
   "outputs": [],
   "source": [
    "captains_odis_new = odiData.map( lambda line: parRecsNew( line ) )"
   ]
  },
  {
   "cell_type": "code",
   "execution_count": null,
   "metadata": {},
   "outputs": [],
   "source": [
    "captains_odis_new.count()"
   ]
  },
  {
   "cell_type": "code",
   "execution_count": null,
   "metadata": {},
   "outputs": [],
   "source": [
    "playing_caps.value"
   ]
  },
  {
   "cell_type": "code",
   "execution_count": null,
   "metadata": {},
   "outputs": [],
   "source": []
  }
 ],
 "metadata": {
  "kernelspec": {
   "display_name": "Python 3 (ipykernel)",
   "language": "python",
   "name": "python3"
  },
  "language_info": {
   "codemirror_mode": {
    "name": "ipython",
    "version": 3
   },
   "file_extension": ".py",
   "mimetype": "text/x-python",
   "name": "python",
   "nbconvert_exporter": "python",
   "pygments_lexer": "ipython3",
   "version": "3.9.7"
  }
 },
 "nbformat": 4,
 "nbformat_minor": 2
}
