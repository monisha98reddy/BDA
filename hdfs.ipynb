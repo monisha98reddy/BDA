{
 "cells": [
  {
   "cell_type": "markdown",
   "id": "4be0ac99",
   "metadata": {},
   "source": [
    "# A. What will be input key and value to Mapper's map() method?"
   ]
  },
  {
   "cell_type": "markdown",
   "id": "9e50a669",
   "metadata": {},
   "source": [
    "### All the parameters Datetime, Latitude , Longitude , Depth ,NST, Magnitude , Region Name ,Eqid are taken as input here and passed together as one object EarthquakeWritable type to Mapper. "
   ]
  },
  {
   "cell_type": "markdown",
   "id": "79e08fec",
   "metadata": {},
   "source": [
    "# B.What will be logic written inside the Mapper’s map method. (Just provide the logic in plain English statement, code is not required)"
   ]
  },
  {
   "cell_type": "raw",
   "id": "c0bc8dcf",
   "metadata": {},
   "source": [
    "public EarthquakeWritable(String date, String time, double\n",
    "latitude, double longitude, intdepth, String depthType, String\n",
    "magnitudeType, double magnitude, String regionName, String\n",
    "lastUpdate, String egid)\n",
    "{\n",
    "this.datetime= new Text(datetime);\n",
    "this.latitude= new DoubleWritable(latitude);\n",
    "this.longitude= new DoubleWritable(longitude);\n",
    "this.depth= new IntWritable(depth);\n",
    "this.magnitude= new DoubleWritable(magnitude);\n",
    "this.regionName= new Text(regionName);\n",
    "this.NST= new Text(NST);\n",
    "this.egid= new Text(egid);\n",
    "}\n"
   ]
  },
  {
   "cell_type": "raw",
   "id": "7e3036e4",
   "metadata": {},
   "source": [
    "This method checks for each line having Data and Time parameters and passes each\n",
    "line from the file, the line is transformed to an EarthquakeWritable object we made, and if\n",
    "the earthquake data in the dataset we are using comes in between the years and magnitude\n",
    "that we select in the application then its converted to an object and is sent to the reducer.\n",
    "When you pass something to reducer you need to specify a key and a value. Here, the key is\n",
    "always one and earthquake data parameters max. & min. magnitude, max. And min. year in\n",
    "each line is taken as value.\n",
    "Basically, the values we give in the application are mapped to our dataset, and the\n",
    "data coming inside the range is then passed to the reducer."
   ]
  },
  {
   "cell_type": "markdown",
   "id": "05ddd4cf",
   "metadata": {},
   "source": [
    "# C.What will be input key and value to Reducer's reduce() method?"
   ]
  },
  {
   "cell_type": "markdown",
   "id": "ebb88b19",
   "metadata": {},
   "source": [
    "### Here, the key is always one and earthquake data parameters max. & min. magnitude, max. And min. year in each line is taken as value."
   ]
  },
  {
   "cell_type": "markdown",
   "id": "932c6334",
   "metadata": {},
   "source": [
    "# D.What will be logic written inside the Reducer’s reduce method"
   ]
  },
  {
   "cell_type": "raw",
   "id": "f7e31311",
   "metadata": {},
   "source": [
    "In reducer, the data we receive from the mapper is stored as a csv file having a\n",
    "maximum of 15000 rows in a directory SEICMIC with file name seismic0.csv. It the number\n",
    "of rows exceeds 15000 rows, the data goes to another file seismic1.csv "
   ]
  },
  {
   "cell_type": "markdown",
   "id": "d5d7efc8",
   "metadata": {},
   "source": [
    "# E.What will be output key and value of Reducer's reduce() method"
   ]
  },
  {
   "cell_type": "raw",
   "id": "830e86bb",
   "metadata": {},
   "source": [
    "for every region where sensors were deployed,the highest magnitude of the earthquake will be recorded."
   ]
  }
 ],
 "metadata": {
  "kernelspec": {
   "display_name": "Python 3 (ipykernel)",
   "language": "python",
   "name": "python3"
  },
  "language_info": {
   "codemirror_mode": {
    "name": "ipython",
    "version": 3
   },
   "file_extension": ".py",
   "mimetype": "text/x-python",
   "name": "python",
   "nbconvert_exporter": "python",
   "pygments_lexer": "ipython3",
   "version": "3.9.7"
  }
 },
 "nbformat": 4,
 "nbformat_minor": 5
}
